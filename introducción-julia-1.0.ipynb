{
 "cells": [
  {
   "cell_type": "markdown",
   "metadata": {},
   "source": [
    "# Introducción a Julia\n",
    "![MacDown logo](https://upload.wikimedia.org/wikipedia/commons/thumb/6/69/Julia_prog_language.svg/220px-Julia_prog_language.svg.png)\n",
    "\n",
    "Para los que llevamos varios años desarrollando con diferentes lenguajes de programación, sabemos que existe la creencia de que es muy poco probable que exista un lenguaje dinámico y flexible como Python, y a la vez rápido y eficiente como C++. ¿Pero sí quizás esto fuera solo un mito?\n",
    "\n",
    "Julia promete algo bastante desafiante *Looks like Python, feels like Lisp, runs like Fortran*(Se ve como Python, se siente como Lisp, y funciona como Fortran). \n",
    "Y como soy algo incrédulo quise llevarlo a la práctica para comprobar si esto es real. A continuación conoceremos las características principales de Julia junto a benchmarks contra C++1x, que es unos de los principales lenguajes para programación de alto rendimiento.\n",
    "\n",
    "## Introducción a Julia\n",
    "\n",
    "Julia es un lenguaje dinámico pero que fue diseñado con la eficiencia en mente a diferencia de otros como Python. Su enfoque principal es la computación científica, esto significa que fue diseñado para operaciones matemáticas, típicamente se refiere a computar operaciones intensivas de cálculo numérico(matrices, tensores, etc). Todo lo referente a trabajar con operaciones de álgebra lineal en Julia viene integrado de manera natural, un campo de principal interés seria Machine learning. \n",
    "\n",
    "Y claro, si un lenguaje promete eficiencia debe ser probado en entornos con paralelismo, Julia fue diseñado para trabajar sobre dichos entornos donde por defecto se necesita de paralelismo, para sacar el mayor provecho a todos los núcleos del cpu.\n",
    "\n",
    "## Características básicas\n",
    "\n",
    "Julia es un lenguaje JIT(just in time)[^jit] que le permite compilar en tiempo de ejecución, utiliza LLVM[^llvm] como plataforma de compilación. Esto le permite a Julia ser dinámico sin tener *un consumo excesivo de recursos* como los típicos lenguajes interpretados.\n",
    "\n",
    "### Variables\n",
    "\n",
    "Julia utiliza inferencia de tipos para declarar variables(también se puede asignar el tipo de dato de manera explicita, en algunos casos esto mejora la eficiencia), por ejemplo:\n"
   ]
  },
  {
   "cell_type": "code",
   "execution_count": 6,
   "metadata": {
    "ExecuteTime": {
     "end_time": "2019-04-25T00:29:11.204000+02:00",
     "start_time": "2019-04-24T22:29:09.739Z"
    }
   },
   "outputs": [
    {
     "data": {
      "text/plain": [
       "Int64"
      ]
     },
     "execution_count": 6,
     "metadata": {},
     "output_type": "execute_result"
    }
   ],
   "source": [
    "x = 10\n",
    "typeof(x)"
   ]
  },
  {
   "cell_type": "code",
   "execution_count": 7,
   "metadata": {
    "ExecuteTime": {
     "end_time": "2019-04-25T00:29:12.945000+02:00",
     "start_time": "2019-04-24T22:29:10.539Z"
    }
   },
   "outputs": [
    {
     "data": {
      "text/plain": [
       "10.1"
      ]
     },
     "execution_count": 7,
     "metadata": {},
     "output_type": "execute_result"
    }
   ],
   "source": [
    "y = 10.1\n",
    "y"
   ]
  },
  {
   "cell_type": "markdown",
   "metadata": {},
   "source": [
    "Ahora veamos tipos de datos que son interesante para operaciones matemáticas, números racionales(forma de fracción) y complejos(con su parte real e imaginaria)."
   ]
  },
  {
   "cell_type": "code",
   "execution_count": 8,
   "metadata": {
    "ExecuteTime": {
     "end_time": "2019-04-25T00:29:14.139000+02:00",
     "start_time": "2019-04-24T22:29:14.069Z"
    }
   },
   "outputs": [
    {
     "data": {
      "text/plain": [
       "Rational{Int64}"
      ]
     },
     "execution_count": 8,
     "metadata": {},
     "output_type": "execute_result"
    }
   ],
   "source": [
    "a = -2//5\n",
    "typeof(a)"
   ]
  },
  {
   "cell_type": "code",
   "execution_count": 9,
   "metadata": {
    "ExecuteTime": {
     "end_time": "2019-04-25T00:29:14.722000+02:00",
     "start_time": "2019-04-24T22:29:14.693Z"
    }
   },
   "outputs": [
    {
     "data": {
      "text/plain": [
       "Complex{Float64}"
      ]
     },
     "execution_count": 9,
     "metadata": {},
     "output_type": "execute_result"
    }
   ],
   "source": [
    "b = 2.0 + 5im\n",
    "typeof(b)"
   ]
  },
  {
   "cell_type": "markdown",
   "metadata": {},
   "source": [
    "El `im` se le agrega al final de un número para indicar que se trata de un número complejo.\n",
    "\n",
    "En la siguiente imagen se aprecia el sistema de tipo numéricos de Julia, con sus jerarquías correspondiente, esto lo veremos más adelante en la sección *sistema de tipos*.\n",
    "\n",
    "![number-type-system](number-type-system.png)\n",
    "\n",
    "### Arreglos de multiples dimensiones\n",
    "\n",
    "Una característica destacable de Julia es su manejo con estructuras de múltiples dimensiones, inspirado en lenguajes como Matlab y R es muy simple operar sobre dichas estructuras."
   ]
  },
  {
   "cell_type": "code",
   "execution_count": 81,
   "metadata": {
    "ExecuteTime": {
     "end_time": "2019-04-25T11:47:53.857000+02:00",
     "start_time": "2019-04-25T09:47:53.847Z"
    }
   },
   "outputs": [
    {
     "data": {
      "text/plain": [
       "10-element Array{Float64,1}:\n",
       " 1.0\n",
       " 1.0\n",
       " 1.0\n",
       " 1.0\n",
       " 1.0\n",
       " 1.0\n",
       " 1.0\n",
       " 1.0\n",
       " 1.0\n",
       " 1.0"
      ]
     },
     "execution_count": 81,
     "metadata": {},
     "output_type": "execute_result"
    }
   ],
   "source": [
    "a = ones(10)\n"
   ]
  },
  {
   "cell_type": "code",
   "execution_count": 82,
   "metadata": {
    "ExecuteTime": {
     "end_time": "2019-04-25T11:48:03.363000+02:00",
     "start_time": "2019-04-25T09:48:03.153Z"
    }
   },
   "outputs": [
    {
     "data": {
      "text/plain": [
       "10-element Array{Float64,1}:\n",
       " 5.0\n",
       " 5.0\n",
       " 5.0\n",
       " 5.0\n",
       " 5.0\n",
       " 5.0\n",
       " 5.0\n",
       " 5.0\n",
       " 5.0\n",
       " 5.0"
      ]
     },
     "execution_count": 82,
     "metadata": {},
     "output_type": "execute_result"
    }
   ],
   "source": [
    "5a"
   ]
  },
  {
   "cell_type": "code",
   "execution_count": 12,
   "metadata": {
    "ExecuteTime": {
     "end_time": "2019-04-25T00:29:18.584000+02:00",
     "start_time": "2019-04-24T22:29:18.458Z"
    }
   },
   "outputs": [
    {
     "data": {
      "text/plain": [
       "5-element Array{Float64,1}:\n",
       " 6.0\n",
       " 6.0\n",
       " 6.0\n",
       " 6.0\n",
       " 6.0"
      ]
     },
     "execution_count": 12,
     "metadata": {},
     "output_type": "execute_result"
    }
   ],
   "source": [
    "5a .+ 1"
   ]
  },
  {
   "cell_type": "markdown",
   "metadata": {},
   "source": [
    "Algo interesante es que si se antepone un número antes de una variable, se multiplica, según el ejemplo anterior seria lo mismo que escribir `5*a`. Esto permite realizar ecuaciones de manera muy fácil(como veremos en la sección de funciones).\n",
    "\n",
    "Al igual que con Matlab, en Julia se puede cambiar desde un vector columna a vector fila de manera muy simple con el carácter `'` al final de la variable."
   ]
  },
  {
   "cell_type": "code",
   "execution_count": 13,
   "metadata": {
    "ExecuteTime": {
     "end_time": "2019-04-25T00:29:20.579000+02:00",
     "start_time": "2019-04-24T22:29:19.707Z"
    }
   },
   "outputs": [
    {
     "data": {
      "text/plain": [
       "5-element Array{Int64,1}:\n",
       " 1\n",
       " 2\n",
       " 3\n",
       " 4\n",
       " 5"
      ]
     },
     "execution_count": 13,
     "metadata": {},
     "output_type": "execute_result"
    }
   ],
   "source": [
    "v = [1,2,3,4,5]"
   ]
  },
  {
   "cell_type": "code",
   "execution_count": 14,
   "metadata": {
    "ExecuteTime": {
     "end_time": "2019-04-25T00:29:22.124000+02:00",
     "start_time": "2019-04-24T22:29:21.216Z"
    }
   },
   "outputs": [
    {
     "data": {
      "text/plain": [
       "1×5 LinearAlgebra.Adjoint{Int64,Array{Int64,1}}:\n",
       " 1  2  3  4  5"
      ]
     },
     "execution_count": 14,
     "metadata": {},
     "output_type": "execute_result"
    }
   ],
   "source": [
    "v'"
   ]
  },
  {
   "cell_type": "markdown",
   "metadata": {},
   "source": [
    "Para los programadores de Python la compresión de listas es algo que entrega mucha simpleza y flexibilidad(sino se utiliza en exceso) en los programas, igual está incorporado en Julia."
   ]
  },
  {
   "cell_type": "code",
   "execution_count": 79,
   "metadata": {
    "ExecuteTime": {
     "end_time": "2019-04-25T10:19:14.113000+02:00",
     "start_time": "2019-04-25T08:19:14.099Z"
    }
   },
   "outputs": [
    {
     "ename": "ErrorException",
     "evalue": "syntax: \"1\" is not a valid function argument name",
     "output_type": "error",
     "traceback": [
      "syntax: \"1\" is not a valid function argument name",
      ""
     ]
    }
   ],
   "source": [
    "a = [1:20;]"
   ]
  },
  {
   "cell_type": "code",
   "execution_count": 16,
   "metadata": {
    "ExecuteTime": {
     "end_time": "2019-04-25T00:29:24.439000+02:00",
     "start_time": "2019-04-24T22:29:24.244Z"
    }
   },
   "outputs": [
    {
     "data": {
      "text/plain": [
       "10-element Array{Int64,1}:\n",
       " 12\n",
       " 20\n",
       " 28\n",
       " 36\n",
       " 44\n",
       " 52\n",
       " 60\n",
       " 68\n",
       " 76\n",
       " 84"
      ]
     },
     "execution_count": 16,
     "metadata": {},
     "output_type": "execute_result"
    }
   ],
   "source": [
    "[e+1 for e in a if e % 2 == 0] * 4"
   ]
  },
  {
   "cell_type": "markdown",
   "metadata": {},
   "source": [
    "## Array"
   ]
  },
  {
   "cell_type": "code",
   "execution_count": 83,
   "metadata": {
    "ExecuteTime": {
     "end_time": "2019-04-25T11:49:47.485000+02:00",
     "start_time": "2019-04-25T09:49:45.712Z"
    }
   },
   "outputs": [
    {
     "data": {
      "text/plain": [
       "4-element Array{Int64,1}:\n",
       " 1\n",
       " 2\n",
       " 3\n",
       " 0"
      ]
     },
     "execution_count": 83,
     "metadata": {},
     "output_type": "execute_result"
    }
   ],
   "source": [
    "a = [1,2,3]\n",
    "push!(a, 0)\n",
    "\n",
    "a"
   ]
  },
  {
   "cell_type": "code",
   "execution_count": 18,
   "metadata": {
    "ExecuteTime": {
     "end_time": "2019-04-25T00:29:30.756000+02:00",
     "start_time": "2019-04-24T22:29:29.418Z"
    }
   },
   "outputs": [
    {
     "data": {
      "text/plain": [
       "0"
      ]
     },
     "metadata": {},
     "output_type": "display_data"
    },
    {
     "data": {
      "text/plain": [
       "1"
      ]
     },
     "metadata": {},
     "output_type": "display_data"
    },
    {
     "data": {
      "text/plain": [
       "4-element Array{Int64,1}:\n",
       " 1\n",
       " 2\n",
       " 3\n",
       " 4"
      ]
     },
     "metadata": {},
     "output_type": "display_data"
    },
    {
     "data": {
      "text/plain": [
       "true"
      ]
     },
     "execution_count": 18,
     "metadata": {},
     "output_type": "execute_result"
    }
   ],
   "source": [
    "display(last(a))\n",
    "\n",
    "display(first(a))\n",
    "\n",
    "a = [1,2,3]\n",
    "b = a\n",
    "push!(b, 4)\n",
    "\n",
    "display(a)\n",
    "a === b"
   ]
  },
  {
   "cell_type": "markdown",
   "metadata": {},
   "source": [
    "## Diccionarios"
   ]
  },
  {
   "cell_type": "code",
   "execution_count": 19,
   "metadata": {
    "ExecuteTime": {
     "end_time": "2019-04-25T00:29:33.916000+02:00",
     "start_time": "2019-04-24T22:29:33.281Z"
    }
   },
   "outputs": [
    {
     "data": {
      "text/plain": [
       "Dict{String,Int64} with 3 entries:\n",
       "  \"abc\" => 0\n",
       "  \"ab\"  => -1\n",
       "  \"a\"   => -2"
      ]
     },
     "metadata": {},
     "output_type": "display_data"
    }
   ],
   "source": [
    "d = Dict(\"abc\" => 0, \"ab\" => -1, \"a\" => -2)\n",
    "display(d)"
   ]
  },
  {
   "cell_type": "markdown",
   "metadata": {},
   "source": [
    "### Funciones\n",
    "\n",
    "Las funciones son un gran tema en Julia. A diferencia de Python no es necesario ni obligatorio la indentación, sino más bien todos los bloques de código tienen una clausula de cierre *end*. Por ejemplo veamos una simple función a continuación:"
   ]
  },
  {
   "cell_type": "code",
   "execution_count": 20,
   "metadata": {
    "ExecuteTime": {
     "end_time": "2019-04-25T00:29:36.114000+02:00",
     "start_time": "2019-04-24T22:29:35.658Z"
    }
   },
   "outputs": [
    {
     "data": {
      "text/plain": [
       "max_number (generic function with 1 method)"
      ]
     },
     "execution_count": 20,
     "metadata": {},
     "output_type": "execute_result"
    }
   ],
   "source": [
    "function max_number(a::Int64, b::Int64)\n",
    "   if(a > b)\n",
    "       println(\"a es $a, por lo tanto es mayor.\")\n",
    "   elseif(b > a)\n",
    "       println(\"b es $b, por lo tanto es mayor.\")\n",
    "   else\n",
    "       println(\"a y b son iguales\")\n",
    "   end\n",
    "    \n",
    "end"
   ]
  },
  {
   "cell_type": "code",
   "execution_count": 21,
   "metadata": {
    "ExecuteTime": {
     "end_time": "2019-04-25T00:29:36.849000+02:00",
     "start_time": "2019-04-24T22:29:36.834Z"
    }
   },
   "outputs": [
    {
     "name": "stdout",
     "output_type": "stream",
     "text": [
      "a es 10, por lo tanto es mayor.\n"
     ]
    }
   ],
   "source": [
    "max_number(10, 5)"
   ]
  },
  {
   "cell_type": "markdown",
   "metadata": {},
   "source": [
    "Como se puede ver en el código superior, la función creada *max_number* tiene los argumentos con los tipos de datos declarados de manera explicita, lo cual es posible en Julia. Otro detalle es la interpolación en los string, algo similar ocurre en php[^inter-php] para incluir el valor de una variable dentro de un string anteponiendo el símbolo `$` antes del nombre de variable.\n",
    "\n",
    "También es posible crear funciones en una sola linea de manera muy limpia."
   ]
  },
  {
   "cell_type": "code",
   "execution_count": 22,
   "metadata": {
    "ExecuteTime": {
     "end_time": "2019-04-25T00:29:38.065000+02:00",
     "start_time": "2019-04-24T22:29:37.875Z"
    }
   },
   "outputs": [
    {
     "data": {
      "text/plain": [
       "f (generic function with 1 method)"
      ]
     },
     "execution_count": 22,
     "metadata": {},
     "output_type": "execute_result"
    }
   ],
   "source": [
    "f(x) = x^2"
   ]
  },
  {
   "cell_type": "code",
   "execution_count": 23,
   "metadata": {
    "ExecuteTime": {
     "end_time": "2019-04-25T00:29:38.421000+02:00",
     "start_time": "2019-04-24T22:29:38.386Z"
    }
   },
   "outputs": [
    {
     "data": {
      "text/plain": [
       "100"
      ]
     },
     "execution_count": 23,
     "metadata": {},
     "output_type": "execute_result"
    }
   ],
   "source": [
    "f(10)"
   ]
  },
  {
   "cell_type": "markdown",
   "metadata": {},
   "source": [
    "Otro ejemplo de flexibilidad en la declaración de funciones, es cuando podemos declarar un retorno de múltiples elementos:"
   ]
  },
  {
   "cell_type": "code",
   "execution_count": 24,
   "metadata": {
    "ExecuteTime": {
     "end_time": "2019-04-25T00:29:39.653000+02:00",
     "start_time": "2019-04-24T22:29:39.458Z"
    }
   },
   "outputs": [
    {
     "data": {
      "text/plain": [
       "multi_op (generic function with 1 method)"
      ]
     },
     "execution_count": 24,
     "metadata": {},
     "output_type": "execute_result"
    }
   ],
   "source": [
    "function multi_op(a, b)\n",
    "    a * b, a / b, a % b, a ^ b\n",
    "end"
   ]
  },
  {
   "cell_type": "code",
   "execution_count": 25,
   "metadata": {
    "ExecuteTime": {
     "end_time": "2019-04-25T00:29:40.837000+02:00",
     "start_time": "2019-04-24T22:29:40.685Z"
    },
    "scrolled": false
   },
   "outputs": [
    {
     "name": "stdout",
     "output_type": "stream",
     "text": [
      "\n",
      "; Function multi_op\n",
      "; Location: In[24]:2\n",
      "define void @julia_multi_op_36198({ i64, double, i64, i64 }* noalias nocapture sret, i64, i64) {\n",
      "top:\n",
      "; Function rem; {\n",
      "; Location: int.jl:233\n",
      "  switch i64 %2, label %oksrem [\n",
      "    i64 0, label %fail\n",
      "    i64 -1, label %after_srem\n",
      "  ]\n",
      "\n",
      "fail:                                             ; preds = %top\n",
      "  call void @jl_throw(%jl_value_t addrspace(12)* addrspacecast (%jl_value_t* inttoptr (i64 4505650288 to %jl_value_t*) to %jl_value_t addrspace(12)*))\n",
      "  unreachable\n",
      "\n",
      "oksrem:                                           ; preds = %top\n",
      "  %3 = srem i64 %1, %2\n",
      "  br label %after_srem\n",
      "\n",
      "after_srem:                                       ; preds = %top, %oksrem\n",
      "  %4 = phi i64 [ %3, %oksrem ], [ 0, %top ]\n",
      ";}\n",
      "; Function *; {\n",
      "; Location: int.jl:54\n",
      "  %5 = mul i64 %2, %1\n",
      ";}\n",
      "; Function /; {\n",
      "; Location: int.jl:59\n",
      "; Function float; {\n",
      "; Location: float.jl:269\n",
      "; Function Type; {\n",
      "; Location: float.jl:254\n",
      "; Function Type; {\n",
      "; Location: float.jl:60\n",
      "  %6 = sitofp i64 %1 to double\n",
      "  %7 = sitofp i64 %2 to double\n",
      ";}}}\n",
      "; Function /; {\n",
      "; Location: float.jl:401\n",
      "  %8 = fdiv double %6, %7\n",
      ";}}\n",
      "; Function ^; {\n",
      "; Location: intfuncs.jl:220\n",
      "  %9 = call i64 @julia_power_by_squaring_23454(i64 %1, i64 %2)\n",
      ";}\n",
      "  %.sroa.0.0..sroa_idx = getelementptr inbounds { i64, double, i64, i64 }, { i64, double, i64, i64 }* %0, i64 0, i32 0\n",
      "  store i64 %5, i64* %.sroa.0.0..sroa_idx, align 8\n",
      "  %.sroa.2.0..sroa_idx1 = getelementptr inbounds { i64, double, i64, i64 }, { i64, double, i64, i64 }* %0, i64 0, i32 1\n",
      "  store double %8, double* %.sroa.2.0..sroa_idx1, align 8\n",
      "  %.sroa.3.0..sroa_idx2 = getelementptr inbounds { i64, double, i64, i64 }, { i64, double, i64, i64 }* %0, i64 0, i32 2\n",
      "  store i64 %4, i64* %.sroa.3.0..sroa_idx2, align 8\n",
      "  %.sroa.4.0..sroa_idx3 = getelementptr inbounds { i64, double, i64, i64 }, { i64, double, i64, i64 }* %0, i64 0, i32 3\n",
      "  store i64 %9, i64* %.sroa.4.0..sroa_idx3, align 8\n",
      "  ret void\n",
      "}\n"
     ]
    }
   ],
   "source": [
    "@code_llvm multi_op(2, 3)\n"
   ]
  },
  {
   "cell_type": "markdown",
   "metadata": {},
   "source": [
    "En la función *multi_op* la última expresión `a * b, a / b, a % b, a ^ b` es una tupla con 4 elementos, y es valor inferido que retorna la función(sin necesidad de escribir el return), algo similar a como maneja *Scala* los valores de retorno. \n",
    "\n",
    "Julia permite pasar funciones como argumento de otra función(funciones de orden superior)[^fun-ord] como en lenguajes como Python y Haskell, además cada función en Julia es definida como genérica por defecto."
   ]
  },
  {
   "cell_type": "code",
   "execution_count": 26,
   "metadata": {
    "ExecuteTime": {
     "end_time": "2019-04-25T00:29:44.033000+02:00",
     "start_time": "2019-04-24T22:29:43.856Z"
    }
   },
   "outputs": [
    {
     "data": {
      "text/plain": [
       "sum_number (generic function with 1 method)"
      ]
     },
     "execution_count": 26,
     "metadata": {},
     "output_type": "execute_result"
    }
   ],
   "source": [
    "sum_number(n) = n > 1 ? sum_number(n-1) + n : n"
   ]
  },
  {
   "cell_type": "code",
   "execution_count": 27,
   "metadata": {
    "ExecuteTime": {
     "end_time": "2019-04-25T00:29:45.009000+02:00",
     "start_time": "2019-04-24T22:29:44.825Z"
    }
   },
   "outputs": [
    {
     "data": {
      "text/plain": [
       "test_sum (generic function with 1 method)"
      ]
     },
     "execution_count": 27,
     "metadata": {},
     "output_type": "execute_result"
    }
   ],
   "source": [
    "function test_sum(f, num)\n",
    "  println(f(num))  \n",
    "end"
   ]
  },
  {
   "cell_type": "code",
   "execution_count": 28,
   "metadata": {
    "ExecuteTime": {
     "end_time": "2019-04-25T00:29:46.037000+02:00",
     "start_time": "2019-04-24T22:29:45.992Z"
    }
   },
   "outputs": [
    {
     "name": "stdout",
     "output_type": "stream",
     "text": [
      "55\n"
     ]
    },
    {
     "data": {
      "text/plain": [
       "typeof(test_sum)"
      ]
     },
     "execution_count": 28,
     "metadata": {},
     "output_type": "execute_result"
    }
   ],
   "source": [
    "value = test_sum(sum_number, 10)\n",
    "value\n",
    "typeof(test_sum)"
   ]
  },
  {
   "cell_type": "markdown",
   "metadata": {},
   "source": [
    "Algo típico en lenguajes funcionales son las operaciones *map* y *filter*, estas son muy simple de utilizar en Julia:"
   ]
  },
  {
   "cell_type": "code",
   "execution_count": 29,
   "metadata": {
    "ExecuteTime": {
     "end_time": "2019-04-25T00:29:47.363000+02:00",
     "start_time": "2019-04-24T22:29:47.244Z"
    }
   },
   "outputs": [
    {
     "data": {
      "text/plain": [
       "5-element Array{Int64,1}:\n",
       " 1\n",
       " 2\n",
       " 3\n",
       " 4\n",
       " 5"
      ]
     },
     "execution_count": 29,
     "metadata": {},
     "output_type": "execute_result"
    }
   ],
   "source": [
    "a = [1:5;]"
   ]
  },
  {
   "cell_type": "code",
   "execution_count": 30,
   "metadata": {
    "ExecuteTime": {
     "end_time": "2019-04-25T00:29:47.968000+02:00",
     "start_time": "2019-04-24T22:29:47.814Z"
    }
   },
   "outputs": [
    {
     "data": {
      "text/plain": [
       "5-element Array{Int64,1}:\n",
       " 2\n",
       " 3\n",
       " 4\n",
       " 5\n",
       " 6"
      ]
     },
     "execution_count": 30,
     "metadata": {},
     "output_type": "execute_result"
    }
   ],
   "source": [
    "map(n -> n + 1, a)   "
   ]
  },
  {
   "cell_type": "code",
   "execution_count": 31,
   "metadata": {
    "ExecuteTime": {
     "end_time": "2019-04-25T00:29:48.343000+02:00",
     "start_time": "2019-04-24T22:29:48.322Z"
    }
   },
   "outputs": [
    {
     "data": {
      "text/plain": [
       "5-element Array{Int64,1}:\n",
       " 1\n",
       " 2\n",
       " 3\n",
       " 4\n",
       " 5"
      ]
     },
     "execution_count": 31,
     "metadata": {},
     "output_type": "execute_result"
    }
   ],
   "source": [
    "filter(x -> x % 2 == 0, a)\n",
    "a"
   ]
  },
  {
   "cell_type": "markdown",
   "metadata": {},
   "source": [
    "Cabe señalar que las funciones que son parte de Julia y manipulan estructuras de datos son **inmutables**, entonces para el caso de `filter` y `map` si se quiere modificar los elementos se debe agregar el símbolo `!` al final de cada función. Por ejemplo:"
   ]
  },
  {
   "cell_type": "code",
   "execution_count": 32,
   "metadata": {
    "ExecuteTime": {
     "end_time": "2019-04-25T00:29:49.619000+02:00",
     "start_time": "2019-04-24T22:29:49.601Z"
    }
   },
   "outputs": [
    {
     "data": {
      "text/plain": [
       "2-element Array{Int64,1}:\n",
       " 2\n",
       " 4"
      ]
     },
     "execution_count": 32,
     "metadata": {},
     "output_type": "execute_result"
    }
   ],
   "source": [
    "filter!(x -> x % 2 == 0, a)\n"
   ]
  },
  {
   "cell_type": "code",
   "execution_count": 33,
   "metadata": {
    "ExecuteTime": {
     "end_time": "2019-04-25T00:29:50.139000+02:00",
     "start_time": "2019-04-24T22:29:50.135Z"
    }
   },
   "outputs": [
    {
     "data": {
      "text/plain": [
       "2-element Array{Int64,1}:\n",
       " 2\n",
       " 4"
      ]
     },
     "execution_count": 33,
     "metadata": {},
     "output_type": "execute_result"
    }
   ],
   "source": [
    "a"
   ]
  },
  {
   "cell_type": "markdown",
   "metadata": {},
   "source": [
    "### Multiple Dispatch\n",
    "\n",
    "Julia tiene una cualidad que lo diferencia de lenguaje como C, Python y Java(que son single dispatch[^single-dis]), y es que tiene lo que se llama *multiple dispatch*[^multiple-dis] algo similar a lo que conocemos como *métodos sobrecargados* en lenguajes orientados a objetos, pero en Julia tienen otro tipo de implementación y objetivo.\n",
    "\n",
    "Esto permite definir una función con un mismo nombre pero con diferente tipos de datos en los argumentos(o cantidad), hasta aquí nada nuevo, pero Julia permite llamar una función desde múltiples lugares sin necesidad de tener un *solicitante* que en otros lenguajes se refiere a la instancia de un objeto, ejemplo `obj_inst.method()` esto provoca que una vez se llame y se ejecute el `method()` vuelve la referencia a la instancia `obj_inst`, esto en Julia no sucede, dado que posee lo que se conoce como *vtable*, una tabla virtual que contiene una lista de funciones con el mismo nombre, que se van añadiendo a medida se define una nueva función, veamos un ejemplo:"
   ]
  },
  {
   "cell_type": "code",
   "execution_count": 34,
   "metadata": {
    "ExecuteTime": {
     "end_time": "2019-04-25T00:30:09.809000+02:00",
     "start_time": "2019-04-24T22:30:09.750Z"
    }
   },
   "outputs": [
    {
     "data": {
      "text/plain": [
       "f (generic function with 1 method)"
      ]
     },
     "execution_count": 34,
     "metadata": {},
     "output_type": "execute_result"
    }
   ],
   "source": [
    "f(x) = x * 2"
   ]
  },
  {
   "cell_type": "code",
   "execution_count": 35,
   "metadata": {
    "ExecuteTime": {
     "end_time": "2019-04-25T00:30:11.935000+02:00",
     "start_time": "2019-04-24T22:30:11.675Z"
    }
   },
   "outputs": [
    {
     "data": {
      "text/plain": [
       "f2 (generic function with 2 methods)"
      ]
     },
     "execution_count": 35,
     "metadata": {},
     "output_type": "execute_result"
    }
   ],
   "source": [
    "f2(x::Int, y::Int) = x + y\n",
    "f2(x::Int, y::Float64) = x + y"
   ]
  },
  {
   "cell_type": "code",
   "execution_count": 36,
   "metadata": {
    "ExecuteTime": {
     "end_time": "2019-04-25T00:30:13.011000+02:00",
     "start_time": "2019-04-24T22:30:12.817Z"
    }
   },
   "outputs": [
    {
     "name": "stdout",
     "output_type": "stream",
     "text": [
      "2\n",
      "3.0\n"
     ]
    }
   ],
   "source": [
    "methods(f2)\n",
    "println(f2(1,1))\n",
    "\n",
    "println(f2(1,2.0))"
   ]
  },
  {
   "cell_type": "code",
   "execution_count": 37,
   "metadata": {
    "ExecuteTime": {
     "end_time": "2019-04-25T00:30:14.181000+02:00",
     "start_time": "2019-04-24T22:30:14.172Z"
    }
   },
   "outputs": [
    {
     "data": {
      "text/plain": [
       "20"
      ]
     },
     "execution_count": 37,
     "metadata": {},
     "output_type": "execute_result"
    }
   ],
   "source": [
    "f(10)"
   ]
  },
  {
   "cell_type": "code",
   "execution_count": 40,
   "metadata": {
    "ExecuteTime": {
     "end_time": "2019-04-25T00:30:37.422000+02:00",
     "start_time": "2019-04-24T22:30:37.418Z"
    }
   },
   "outputs": [
    {
     "data": {
      "text/plain": [
       "15"
      ]
     },
     "execution_count": 40,
     "metadata": {},
     "output_type": "execute_result"
    }
   ],
   "source": [
    "f2(10, 5)"
   ]
  },
  {
   "cell_type": "markdown",
   "metadata": {},
   "source": [
    "La tabla virtual de `f` tiene dos valores con diferentes argumentos:\n",
    "\n",
    "`f(x)` y `f(x, y)`\n",
    "\n",
    "Cada función tiene una tabla asociada con las alternativas de argumentos que tiene dicha función, que se van eligiendo en tiempo de ejecución, sin necesidad de tener algo como un *tipo de instancia de clase* para mantener los métodos asociados a ella. La función **methods** nos permite conocer la lista de argumentos de una función.\n",
    "\n",
    "Otro lenguaje que tiene *multiple dispatch* es Lisp[^julia-mast].  \n",
    "\n",
    "### Meta-programación\n",
    "\n",
    "#### Expresiones\n",
    "\n",
    "La capacidad de definir expresiones es una característica que le da un gran poder a Julia. Por ejemplo si definimos una expresión `(1 + 3 * 5)`, con Julia debemos anteponer el signo `:` para que se asigne como expresión(tipo `Expr`) y no la ejecute:"
   ]
  },
  {
   "cell_type": "code",
   "execution_count": 41,
   "metadata": {
    "ExecuteTime": {
     "end_time": "2019-04-25T00:30:49.362000+02:00",
     "start_time": "2019-04-24T22:30:49.358Z"
    }
   },
   "outputs": [
    {
     "data": {
      "text/plain": [
       ":(1 + 3 * 5)"
      ]
     },
     "execution_count": 41,
     "metadata": {},
     "output_type": "execute_result"
    }
   ],
   "source": [
    "a = :(1 + 3 * 5)"
   ]
  },
  {
   "cell_type": "code",
   "execution_count": 42,
   "metadata": {
    "ExecuteTime": {
     "end_time": "2019-04-25T00:30:49.752000+02:00",
     "start_time": "2019-04-24T22:30:49.746Z"
    }
   },
   "outputs": [
    {
     "data": {
      "text/plain": [
       "Expr"
      ]
     },
     "execution_count": 42,
     "metadata": {},
     "output_type": "execute_result"
    }
   ],
   "source": [
    "typeof(a)"
   ]
  },
  {
   "cell_type": "code",
   "execution_count": 43,
   "metadata": {
    "ExecuteTime": {
     "end_time": "2019-04-25T00:30:50.237000+02:00",
     "start_time": "2019-04-24T22:30:50.225Z"
    }
   },
   "outputs": [
    {
     "name": "stdout",
     "output_type": "stream",
     "text": [
      "Expr\n",
      "  head: Symbol call\n",
      "  args: Array{Any}((3,))\n",
      "    1: Symbol +\n",
      "    2: Int64 1\n",
      "    3: Expr\n",
      "      head: Symbol call\n",
      "      args: Array{Any}((3,))\n",
      "        1: Symbol *\n",
      "        2: Int64 3\n",
      "        3: Int64 5\n"
     ]
    }
   ],
   "source": [
    "dump(a)"
   ]
  },
  {
   "cell_type": "code",
   "execution_count": 44,
   "metadata": {
    "ExecuteTime": {
     "end_time": "2019-04-25T00:30:52.248000+02:00",
     "start_time": "2019-04-24T22:30:52.228Z"
    }
   },
   "outputs": [
    {
     "data": {
      "text/plain": [
       "16"
      ]
     },
     "execution_count": 44,
     "metadata": {},
     "output_type": "execute_result"
    }
   ],
   "source": [
    "eval(a)"
   ]
  },
  {
   "cell_type": "markdown",
   "metadata": {},
   "source": [
    "Como se puede apreciar en el código superior se utiliza la función `eval` para evaluar dicha expresión(algo similar a lo que tiene javascript). Otra forma de definir una expresión es utilizando un string como argumento de la función `parse`:"
   ]
  },
  {
   "cell_type": "code",
   "execution_count": 45,
   "metadata": {
    "ExecuteTime": {
     "end_time": "2019-04-25T00:30:53.992000+02:00",
     "start_time": "2019-04-24T22:30:53.944Z"
    }
   },
   "outputs": [
    {
     "data": {
      "text/plain": [
       ":(if 10 > 10\n",
       "      #= none:2 =#\n",
       "      println(10)\n",
       "  else\n",
       "      #= none:4 =#\n",
       "      println(0)\n",
       "  end)"
      ]
     },
     "execution_count": 45,
     "metadata": {},
     "output_type": "execute_result"
    }
   ],
   "source": [
    "v = 10\n",
    "e = Meta.parse(\"if(10 > $v)\n",
    "                   println(10)\n",
    "                  else\n",
    "                   println(0)\n",
    "                  end\")"
   ]
  },
  {
   "cell_type": "code",
   "execution_count": 46,
   "metadata": {
    "ExecuteTime": {
     "end_time": "2019-04-25T00:30:54.474000+02:00",
     "start_time": "2019-04-24T22:30:54.471Z"
    }
   },
   "outputs": [
    {
     "name": "stdout",
     "output_type": "stream",
     "text": [
      "0\n"
     ]
    }
   ],
   "source": [
    "eval(e)"
   ]
  },
  {
   "cell_type": "markdown",
   "metadata": {},
   "source": [
    "\n",
    "Esta característica podría permitir crear *lenguajes de dominio especifico* dentro de Julia de una manera mucho más simple que con otros lenguajes, dado el soporte a *meta-programación* y al tener los tipo de datos `Expr` que permitiría crear nuevos tipos de expresiones dentro de Julia.\n",
    "\n",
    "\n",
    "\n",
    "#### Macros\n",
    "\n",
    "Las macros son algo muy poderoso que tiene Julia, y a diferencia de las funciones que utilizan valores como datos de entrada, las macros usan **expresiones**.\n",
    "\n",
    "Las macros se define con una `@` previo al nombre, veamos algunas macros que vienen por defecto en Julia, primero definiremos una función `factorial`, y ocuparemos distintas macros para obtener información de la misma."
   ]
  },
  {
   "cell_type": "code",
   "execution_count": 47,
   "metadata": {
    "ExecuteTime": {
     "end_time": "2019-04-25T00:30:55.791000+02:00",
     "start_time": "2019-04-24T22:30:55.619Z"
    }
   },
   "outputs": [
    {
     "data": {
      "text/plain": [
       "factorial3 (generic function with 1 method)"
      ]
     },
     "execution_count": 47,
     "metadata": {},
     "output_type": "execute_result"
    }
   ],
   "source": [
    "factorial(n::Int) = n > 0 ? factorial(n-1) * n : 1\n",
    "factorial3(n) = n > 0 ? factorial3(n-1) * n : 1"
   ]
  },
  {
   "cell_type": "code",
   "execution_count": 48,
   "metadata": {
    "ExecuteTime": {
     "end_time": "2019-04-25T00:31:00.025000+02:00",
     "start_time": "2019-04-24T22:30:59.988Z"
    }
   },
   "outputs": [
    {
     "name": "stdout",
     "output_type": "stream",
     "text": [
      "Body\u001b[36m::Nothing\u001b[39m\n",
      "\u001b[90m\u001b[77G│\u001b[1G\u001b[39m\u001b[90m3 \u001b[39m1 ─      (Core.typeassert)(Base.stdout, Base.IO)\n",
      "\u001b[90m\u001b[77G│\u001b[1G\u001b[39m\u001b[90m  \u001b[39m│   %2 = π (Base.stdout, \u001b[36mIO\u001b[39m)\n",
      "\u001b[90m\u001b[77G│\u001b[1G\u001b[39m\u001b[90m  \u001b[39m│   %3 = (getfield)(xs, 1)\u001b[36m::Array{Any,2}\u001b[39m\n",
      "\u001b[90m\u001b[77G│\u001b[1G\u001b[39m\u001b[90m  \u001b[39m│   %4 = (Base.print)(%2, %3)\u001b[36m::Core.Compiler.Const(nothing, false)\u001b[39m\n",
      "\u001b[90m\u001b[77G│\u001b[1G\u001b[39m\u001b[90m  \u001b[39m└──      return %4\n"
     ]
    }
   ],
   "source": [
    "a = [\"a\" 2]\n",
    "function test(a) \n",
    "    \n",
    "end\n",
    "@code_warntype print(a) #Información del tiempo de ejecución."
   ]
  },
  {
   "cell_type": "code",
   "execution_count": 49,
   "metadata": {
    "ExecuteTime": {
     "end_time": "2019-04-25T00:31:01.797000+02:00",
     "start_time": "2019-04-24T22:31:00.557Z"
    }
   },
   "outputs": [
    {
     "data": {
      "text/html": [
       "factorial(n::<b>Int64</b>) in Main at In[47]:1"
      ],
      "text/plain": [
       "factorial(n::Int64) in Main at In[47]:1"
      ]
     },
     "execution_count": 49,
     "metadata": {},
     "output_type": "execute_result"
    }
   ],
   "source": [
    "@which factorial(20) #Estructura de la función."
   ]
  },
  {
   "cell_type": "code",
   "execution_count": 50,
   "metadata": {
    "ExecuteTime": {
     "end_time": "2019-04-25T00:31:01.928000+02:00",
     "start_time": "2019-04-24T22:31:01.376Z"
    }
   },
   "outputs": [
    {
     "name": "stdout",
     "output_type": "stream",
     "text": [
      "\t.section\t__TEXT,__text,regular,pure_instructions\n",
      "; Function factorial {\n",
      "; Location: In[47]:1\n",
      "\tpushl\t%ebx\n",
      "\tdecl\t%eax\n",
      "\tmovl\t%edi, %ebx\n",
      "; Function >; {\n",
      "; Location: operators.jl:286\n",
      "; Function <; {\n",
      "; Location: int.jl:49\n",
      "\tdecl\t%eax\n",
      "\ttestl\t%ebx, %ebx\n",
      ";}}\n",
      "\tjle\tL31\n",
      "; Function -; {\n",
      "; Location: int.jl:52\n",
      "\tdecl\t%eax\n",
      "\tleal\t-1(%ebx), %edi\n",
      ";}\n",
      "\tdecl\t%eax\n",
      "\tmovl\t$554730576, %eax        ## imm = 0x21108450\n",
      "\taddl\t%eax, (%eax)\n",
      "\taddb\t%al, (%eax)\n",
      "\tcalll\t*%eax\n",
      "; Function *; {\n",
      "; Location: int.jl:54\n",
      "\tdecl\t%eax\n",
      "\timull\t%ebx, %eax\n",
      ";}\n",
      "\tpopl\t%ebx\n",
      "\tretl\n",
      "L31:\n",
      "\tmovl\t$1, %eax\n",
      "\tpopl\t%ebx\n",
      "\tretl\n",
      "\tnopw\t%cs:(%eax,%eax)\n",
      ";}\n"
     ]
    }
   ],
   "source": [
    "@code_native factorial(20) #Código nativo generado."
   ]
  },
  {
   "cell_type": "code",
   "execution_count": 51,
   "metadata": {
    "ExecuteTime": {
     "end_time": "2019-04-25T00:31:02.065000+02:00",
     "start_time": "2019-04-24T22:31:02.060Z"
    }
   },
   "outputs": [
    {
     "name": "stdout",
     "output_type": "stream",
     "text": [
      "\n",
      "; Function +\n",
      "; Location: int.jl:53\n",
      "define i64 @\"julia_+_32037\"(i64, i64) {\n",
      "top:\n",
      "  %2 = add i64 %1, %0\n",
      "  ret i64 %2\n",
      "}\n"
     ]
    }
   ],
   "source": [
    "@code_llvm 1+1 #Código LLVM generado."
   ]
  },
  {
   "cell_type": "markdown",
   "metadata": {},
   "source": [
    "Las macros `@code_native` y `@code_llvm` son muy útiles en caso de querer optimizar el código y tener control sobre lo que Julia esta generando[^julia-high]. La primera permite visualizar el código nativo que genera el código de Julia, y la segunda el código que LLVM esta generando. \n",
    "\n",
    "Julia también permite crear nuevas macros personalizadas, supongamos que queremos crear la macro `@special_print` que lo único que hace es recibir una expresión y antes de ejecutarla imprime `begin` y en el termino `end`, la expresión está definida dentro de un bloque `quote`, este bloque permite definir expresiones en multiples lineas:\n"
   ]
  },
  {
   "cell_type": "code",
   "execution_count": 52,
   "metadata": {
    "ExecuteTime": {
     "end_time": "2019-04-25T00:31:04.458000+02:00",
     "start_time": "2019-04-24T22:31:04.272Z"
    }
   },
   "outputs": [
    {
     "data": {
      "text/plain": [
       "@special_print (macro with 1 method)"
      ]
     },
     "execution_count": 52,
     "metadata": {},
     "output_type": "execute_result"
    }
   ],
   "source": [
    "macro special_print(ex)\n",
    "         return quote\n",
    "           println(\"begin\")\n",
    "           local val = $ex\n",
    "           println(\"\\nend\")\n",
    "           val\n",
    "         end\n",
    "       end"
   ]
  },
  {
   "cell_type": "code",
   "execution_count": 53,
   "metadata": {
    "ExecuteTime": {
     "end_time": "2019-04-25T00:31:04.702000+02:00",
     "start_time": "2019-04-24T22:31:04.692Z"
    }
   },
   "outputs": [
    {
     "name": "stdout",
     "output_type": "stream",
     "text": [
      "begin\n",
      "hello\n",
      "\n",
      "end\n"
     ]
    }
   ],
   "source": [
    "@special_print println(\"hello\") "
   ]
  },
  {
   "cell_type": "markdown",
   "metadata": {},
   "source": [
    "Una representación visual de esta macro:\n",
    "\n",
    "![macro-expr](macro-expr.png)\n",
    "\n",
    "Esto al igual como mencionamos en el apartado anterior de expresiones, da una gran flexibilidad de Julia, donde utiliza el concepto de *Homoiconicidad* [^homoiconicidad] para poder utilizar macros, trata básicamente que un bloque de código también representa una estructura de datos con tipos de datos primarios del lenguaje en si mismo, o sea la **habilidad de extender el propio lenguaje**.\n",
    "\n",
    "\n",
    "\n",
    "## Características Avanzadas\n",
    "\n",
    "### Paralelismo\n",
    "\n",
    "Julia tiene como fortaleza manejar paralelismo en entornos distribuidos. Al igual que lenguajes como Erlang, Dart, y Elixir, Julia usa un patrón de mensajería entre procesos[^juliadoc], los cuales puede ser locales o remotos.\n",
    "\n",
    "En Julia estos procesos son llamados *workers* y se pueden iniciar con dicho entorno solo abriendo la REPL, `julia -p n` donde n es número de workers a crear. Estos workers son procesos independientes(no thread), por lo cual la memoria no es compartida. Generalmente este `n` hace referencia a los números de núcleos del cpu que quieres utilizar.\n",
    "\n",
    "\n",
    "Cada workers se comunica y se ejecuta a través del protocolo TCP a nivel local. Para ejecutar Julia en un *cluster*, se debe hacer utilizar el siguiente comando `julia --machinefile machines test.jl` donde `--machinefile machines` es el archivo que contiene los nombres de los computadores distribuidos(nodos), y `test.jl` es el script que realiza el cálculo.\n",
    "\n",
    "Para hacer ciclos paralelos en Julia se debe utilizar el macro `@parallel` antes del for, y `(+)` que hace referencia a una reducción. \n",
    "\n",
    "En el siguiente ejemplo se crea un vector columna de una dimensión, con `5x10^10` elementos donde existen dos funciones, las cuales acumularan los datos en simples operaciones matemáticas, una en paralelo y la otra no. Para esto ocuparemos un servidor con las siguientes características:\n",
    "\n",
    "\n",
    "```\n",
    "Architecture:          x86_64\n",
    "CPU op-mode(s):        32-bit, 64-bit\n",
    "Byte Order:            Little Endian\n",
    "CPU(s):                16\n",
    "On-line CPU(s) list:   0-15\n",
    "Thread(s) per core:    1\n",
    "Core(s) per socket:    16\n",
    "Socket(s):             1\n",
    "NUMA node(s):          1\n",
    "Vendor ID:             GenuineIntel\n",
    "CPU family:            6\n",
    "Model:                 79\n",
    "Model name:            Intel(R) Xeon(R) CPU E5-2673 v4 @ 2.30GHz\n",
    "Stepping:              1\n",
    "CPU MHz:               2294.687\n",
    "BogoMIPS:              4589.37\n",
    "Hypervisor vendor:     Microsoft\n",
    "Virtualization type:   full\n",
    "L1d cache:             32K\n",
    "L1i cache:             32K\n",
    "L2 cache:              256K\n",
    "L3 cache:              51200K\n",
    "NUMA node0 CPU(s):     0-15\n",
    "```\n",
    "Utilizaremos el package `BenchmarkTools`, que sirve para hacer benchmark sobre una función utilizando la macro `@btime`, ejecutándola varias veces y sacando el promedio del tiempo de ejecución(esto hace más preciso el benchmark)."
   ]
  },
  {
   "cell_type": "code",
   "execution_count": 54,
   "metadata": {
    "ExecuteTime": {
     "end_time": "2019-04-25T00:31:11.162000+02:00",
     "start_time": "2019-04-24T22:31:07.093Z"
    }
   },
   "outputs": [
    {
     "name": "stdout",
     "output_type": "stream",
     "text": [
      "5Julia Version 1.0.2\n",
      "Commit d789231e99 (2018-11-08 20:11 UTC)\n",
      "Platform Info:\n",
      "  OS: macOS (x86_64-apple-darwin14.5.0)\n",
      "  CPU: Intel(R) Core(TM) i5-6267U CPU @ 2.90GHz\n",
      "  WORD_SIZE: 64\n",
      "  LIBM: libopenlibm\n",
      "  LLVM: libLLVM-6.0.0 (ORCJIT, skylake)\n"
     ]
    }
   ],
   "source": [
    "using BenchmarkTools, Compat\n",
    "using Distributed, SharedArrays\n",
    "\n",
    "function getdata(mode)\n",
    "    if mode == \"parallel\"\n",
    "        data = SharedArray{Float64, 1}(50000)\n",
    "        @distributed for i in 1:length(data)\n",
    "            data[i] = i / 10.0\n",
    "        end\n",
    "    elseif mode == \"no-parallel\"\n",
    "        data = rand(50000)\n",
    "        for i in 1:length(data)\n",
    "            data[i] = i / 10.0\n",
    "        end\n",
    "    end\n",
    "    data\n",
    "end\n",
    "\n",
    "function parallel(data)\n",
    "    acum =  @distributed (+) for i = 1:length(data)\n",
    "        data[i] +  2 * sqrt(i) / 10.0\n",
    "    end\n",
    "end\n",
    "\n",
    "function no_parallel(data)\n",
    "    acum::Float64 = 0.0\n",
    "    for i = 1:length(data)\n",
    "       acum = acum + data[i] + 2 * sqrt(i) / 10.0\n",
    "    end\n",
    "    acum\n",
    "end\n",
    "\n",
    "rmprocs(workers())\n",
    "\n",
    "addprocs(4)\n",
    "print(nprocs())\n",
    "\n",
    "#@btime parallel(getdata(\"parallel\"))\n",
    "#@btime no_parallel(getdata(\"no-parallel\"))\n",
    "versioninfo()\n",
    "\n"
   ]
  },
  {
   "cell_type": "markdown",
   "metadata": {},
   "source": [
    "\n",
    "Resultados del bechmark entre la función `parallel(data)` y `no_parallel(data)`, demuestra lo esperado que la versión paralela sea más rápida, también cabe señalar que en el caso de la función `getdata(mode)` la versión paralela es muy superior en tiempo de ejecución, esto porque usa una estructura de dato `SharedArray` diseñada para trabajar en entorno de múltiples procesos de memoria compartida, como sucede en este caso. Los resultados:\n",
    "```\n",
    "cc@vm-app3:~/test_julia$ julia -p 16 --optimize=3 --compile=yes --precompiled=yes test.jl parallel\n",
    " 1.573 s (2398 allocations: 194.28 KiB)\n",
    "   \n",
    "cc@vm-app3:~/test_julia$ julia --optimize=3 --compile=yes --precompiled=yes test.jl no-parallel\n",
    "  2.454 s (0 allocations: 0 bytes)\n",
    "```\n",
    "\n",
    "\n",
    "### Sistema de Tipos\n",
    "\n",
    "Después de ver algunas características de Julia, podemos apreciar que el sistema de tipo es muy relevante, nos permite bastante flexibilidad al momento de programar. \n",
    "\n",
    "Para encapsular variables existen las `struct`, las cuales nos da la posibilidad de agregar restricciones de tipos al momento de crear el objeto:"
   ]
  },
  {
   "cell_type": "code",
   "execution_count": 55,
   "metadata": {
    "ExecuteTime": {
     "end_time": "2019-04-25T00:31:11.395000+02:00",
     "start_time": "2019-04-24T22:31:11.313Z"
    }
   },
   "outputs": [],
   "source": [
    "struct Test\n",
    "      x::Int\n",
    "      y::Int\n",
    "      z::Int\n",
    "  end"
   ]
  },
  {
   "cell_type": "code",
   "execution_count": 57,
   "metadata": {
    "ExecuteTime": {
     "end_time": "2019-04-25T00:31:16.801000+02:00",
     "start_time": "2019-04-24T22:31:16.795Z"
    }
   },
   "outputs": [
    {
     "ename": "InexactError",
     "evalue": "InexactError: Int64(Int64, 30.01)",
     "output_type": "error",
     "traceback": [
      "InexactError: Int64(Int64, 30.01)",
      "",
      "Stacktrace:",
      " [1] Type at ./float.jl:700 [inlined]",
      " [2] convert at ./number.jl:7 [inlined]",
      " [3] Test(::Int64, ::Int64, ::Float64) at ./In[55]:2",
      " [4] top-level scope at In[57]:1"
     ]
    }
   ],
   "source": [
    "t = Test(1, 2, 30.01)"
   ]
  },
  {
   "cell_type": "code",
   "execution_count": 58,
   "metadata": {
    "ExecuteTime": {
     "end_time": "2019-04-25T00:31:17.121000+02:00",
     "start_time": "2019-04-24T22:31:17.117Z"
    }
   },
   "outputs": [
    {
     "ename": "InexactError",
     "evalue": "InexactError: Int64(Int64, 3.5)",
     "output_type": "error",
     "traceback": [
      "InexactError: Int64(Int64, 3.5)",
      "",
      "Stacktrace:",
      " [1] Type at ./float.jl:700 [inlined]",
      " [2] convert at ./number.jl:7 [inlined]",
      " [3] Test(::Int64, ::Int64, ::Float64) at ./In[55]:2",
      " [4] top-level scope at In[58]:1"
     ]
    }
   ],
   "source": [
    "t = Test(1, 2, 3.5) #Se intenta ingresar un valor Float."
   ]
  },
  {
   "cell_type": "code",
   "execution_count": 59,
   "metadata": {
    "ExecuteTime": {
     "end_time": "2019-04-25T00:31:22.811000+02:00",
     "start_time": "2019-04-24T22:31:22.513Z"
    }
   },
   "outputs": [
    {
     "ename": "MethodError",
     "evalue": "MethodError: Cannot `convert` an object of type String to an object of type Int64\nClosest candidates are:\n  convert(::Type{T<:Number}, !Matched::T<:Number) where T<:Number at number.jl:6\n  convert(::Type{T<:Number}, !Matched::Number) where T<:Number at number.jl:7\n  convert(::Type{T<:Integer}, !Matched::Ptr) where T<:Integer at pointer.jl:23\n  ...",
     "output_type": "error",
     "traceback": [
      "MethodError: Cannot `convert` an object of type String to an object of type Int64\nClosest candidates are:\n  convert(::Type{T<:Number}, !Matched::T<:Number) where T<:Number at number.jl:6\n  convert(::Type{T<:Number}, !Matched::Number) where T<:Number at number.jl:7\n  convert(::Type{T<:Integer}, !Matched::Ptr) where T<:Integer at pointer.jl:23\n  ...",
      "",
      "Stacktrace:",
      " [1] Test(::Int64, ::Int64, ::String) at ./In[55]:2",
      " [2] top-level scope at In[59]:1"
     ]
    }
   ],
   "source": [
    "t = Test(1, 2, \"hi\") #Se intenta ingresar un valor String."
   ]
  },
  {
   "cell_type": "markdown",
   "metadata": {},
   "source": [
    "Como se puede apreciar en el ejemplo anterior, el compilador reclama cuando se intenta violar una restricción de tipo. \n",
    "\n",
    "Otro dato interesante es que se pueda obtener la información de los atributos de una `struct` con la función `fieldnames`:"
   ]
  },
  {
   "cell_type": "code",
   "execution_count": 60,
   "metadata": {
    "ExecuteTime": {
     "end_time": "2019-04-25T00:31:24.818000+02:00",
     "start_time": "2019-04-24T22:31:24.374Z"
    }
   },
   "outputs": [
    {
     "data": {
      "text/plain": [
       "Test(1, 2, 3)"
      ]
     },
     "execution_count": 60,
     "metadata": {},
     "output_type": "execute_result"
    }
   ],
   "source": [
    "t = Test(1, 2, 3)"
   ]
  },
  {
   "cell_type": "code",
   "execution_count": 61,
   "metadata": {
    "ExecuteTime": {
     "end_time": "2019-04-25T00:31:26.932000+02:00",
     "start_time": "2019-04-24T22:31:26.467Z"
    }
   },
   "outputs": [
    {
     "data": {
      "text/plain": [
       "(:x, :y, :z)"
      ]
     },
     "execution_count": 61,
     "metadata": {},
     "output_type": "execute_result"
    }
   ],
   "source": [
    "fieldnames(Test)"
   ]
  },
  {
   "cell_type": "code",
   "execution_count": 62,
   "metadata": {
    "ExecuteTime": {
     "end_time": "2019-04-25T00:31:27.536000+02:00",
     "start_time": "2019-04-24T22:31:26.836Z"
    }
   },
   "outputs": [
    {
     "data": {
      "text/plain": [
       "(1, 2, 3)"
      ]
     },
     "execution_count": 62,
     "metadata": {},
     "output_type": "execute_result"
    }
   ],
   "source": [
    "t.x, t.y, t.z"
   ]
  },
  {
   "cell_type": "markdown",
   "metadata": {},
   "source": [
    "También se puede definir una `struct` con *tipos compuestos paramétrico*, algo probablemente similar a lo que se conoce como *programación genérica*:"
   ]
  },
  {
   "cell_type": "code",
   "execution_count": 63,
   "metadata": {
    "ExecuteTime": {
     "end_time": "2019-04-25T00:31:27.786000+02:00",
     "start_time": "2019-04-24T22:31:27.773Z"
    }
   },
   "outputs": [],
   "source": [
    "struct Pair2{T}\n",
    "  p1::T\n",
    "  p2::T\n",
    "end"
   ]
  },
  {
   "cell_type": "code",
   "execution_count": 64,
   "metadata": {
    "ExecuteTime": {
     "end_time": "2019-04-25T00:31:28.489000+02:00",
     "start_time": "2019-04-24T22:31:28.083Z"
    }
   },
   "outputs": [
    {
     "data": {
      "text/plain": [
       "Pair2{Int64}(1, 2)"
      ]
     },
     "execution_count": 64,
     "metadata": {},
     "output_type": "execute_result"
    }
   ],
   "source": [
    "Pair2(1,2)"
   ]
  },
  {
   "cell_type": "code",
   "execution_count": 65,
   "metadata": {
    "ExecuteTime": {
     "end_time": "2019-04-25T00:31:28.590000+02:00",
     "start_time": "2019-04-24T22:31:28.541Z"
    }
   },
   "outputs": [
    {
     "ename": "MethodError",
     "evalue": "MethodError: no method matching Pair2(::Int64, ::Float64)\nClosest candidates are:\n  Pair2(::T, !Matched::T) where T at In[63]:2",
     "output_type": "error",
     "traceback": [
      "MethodError: no method matching Pair2(::Int64, ::Float64)\nClosest candidates are:\n  Pair2(::T, !Matched::T) where T at In[63]:2",
      "",
      "Stacktrace:",
      " [1] top-level scope at In[65]:1"
     ]
    }
   ],
   "source": [
    "Pair2(1,2.0)"
   ]
  },
  {
   "cell_type": "markdown",
   "metadata": {},
   "source": [
    "Una `struct` puede tener múltiples tipos paramétrico:"
   ]
  },
  {
   "cell_type": "code",
   "execution_count": 66,
   "metadata": {
    "ExecuteTime": {
     "end_time": "2019-04-25T00:31:30.243000+02:00",
     "start_time": "2019-04-24T22:31:30.235Z"
    }
   },
   "outputs": [],
   "source": [
    "struct Pair3{T, T2}\n",
    "  p1::T\n",
    "  p2::T2\n",
    "end"
   ]
  },
  {
   "cell_type": "code",
   "execution_count": 67,
   "metadata": {
    "ExecuteTime": {
     "end_time": "2019-04-25T00:31:30.932000+02:00",
     "start_time": "2019-04-24T22:31:30.478Z"
    }
   },
   "outputs": [
    {
     "data": {
      "text/plain": [
       "Pair3{Int64,String}(1, \"hi\")"
      ]
     },
     "execution_count": 67,
     "metadata": {},
     "output_type": "execute_result"
    }
   ],
   "source": [
    "Pair3(1, \"hi\")"
   ]
  },
  {
   "cell_type": "markdown",
   "metadata": {},
   "source": [
    "Ahora para crear una restricción desde un sub-tipo, se puede crear un `abstract type` para definir un nuevo tipo `abstract type Point{T<:Real, T2<:Real} end` donde el símbolo `<:` significa `T es sub-tipo de Real`, entonces cualquier estructura que implemente `Point` podrá solo inicializarse con valores que sea sub-tipo de `Real`, por ejemplo:\n"
   ]
  },
  {
   "cell_type": "code",
   "execution_count": 68,
   "metadata": {
    "ExecuteTime": {
     "end_time": "2019-04-25T00:31:33.883000+02:00",
     "start_time": "2019-04-24T22:31:33.876Z"
    }
   },
   "outputs": [
    {
     "data": {
      "text/plain": [
       "false"
      ]
     },
     "execution_count": 68,
     "metadata": {},
     "output_type": "execute_result"
    }
   ],
   "source": [
    "abstract type Point{T<:Real, T2<:Real} end\n",
    "String <: Real"
   ]
  },
  {
   "cell_type": "code",
   "execution_count": 69,
   "metadata": {
    "ExecuteTime": {
     "end_time": "2019-04-25T00:31:34.162000+02:00",
     "start_time": "2019-04-24T22:31:34.154Z"
    }
   },
   "outputs": [],
   "source": [
    "struct Pair_A{T, T2} <: Point{T, T2}\n",
    "   x::T\n",
    "   y::T2\n",
    "end\n"
   ]
  },
  {
   "cell_type": "code",
   "execution_count": 70,
   "metadata": {
    "ExecuteTime": {
     "end_time": "2019-04-25T00:31:34.692000+02:00",
     "start_time": "2019-04-24T22:31:34.689Z"
    }
   },
   "outputs": [
    {
     "data": {
      "text/plain": [
       "true"
      ]
     },
     "execution_count": 70,
     "metadata": {},
     "output_type": "execute_result"
    }
   ],
   "source": [
    "Int <: Real"
   ]
  },
  {
   "cell_type": "code",
   "execution_count": 71,
   "metadata": {
    "ExecuteTime": {
     "end_time": "2019-04-25T00:31:35.677000+02:00",
     "start_time": "2019-04-24T22:31:35.286Z"
    }
   },
   "outputs": [
    {
     "data": {
      "text/plain": [
       "Pair_A{Int64,Int64}(1, 2)"
      ]
     },
     "execution_count": 71,
     "metadata": {},
     "output_type": "execute_result"
    }
   ],
   "source": [
    "Pair_A(1, 2)"
   ]
  },
  {
   "cell_type": "code",
   "execution_count": 96,
   "metadata": {
    "ExecuteTime": {
     "end_time": "2018-10-03T01:12:42.761000-03:00",
     "start_time": "2018-10-03T04:12:42.407Z"
    }
   },
   "outputs": [
    {
     "ename": "TypeError",
     "evalue": "TypeError: in Point, in T, expected T<:Real, got Type{String}",
     "output_type": "error",
     "traceback": [
      "TypeError: in Point, in T, expected T<:Real, got Type{String}",
      "",
      "Stacktrace:",
      " [1] Pair_A(::String, ::Int64) at ./In[93]:2",
      " [2] top-level scope at In[96]:1"
     ]
    }
   ],
   "source": [
    "Pair_A(\"hi\", 2)"
   ]
  },
  {
   "cell_type": "markdown",
   "metadata": {},
   "source": [
    "En el código superior ocurre un error al intentar crear un objeto `Pair` con una variable del tipo `String`, dado que `String <: Real` es falso, porque `String` no es sub-tipo de `Real`."
   ]
  },
  {
   "cell_type": "markdown",
   "metadata": {},
   "source": [
    "## Benchmark - Julia vs C++1x\n",
    "\n",
    "### Multiplicación de Matrices\n",
    "\n",
    "El siguiente benchmark(prueba de rendimiento) multiplicaremos dos matrices de `2000x2000` que contienen valores `Ìnt64`, este es un ejemplo típico para comprobar la velocidad de computo entre diferentes lenguajes, no utilizaremos bibliotecas externas.\n",
    "\n",
    "### Un nucleo \n",
    "\n",
    "*\tEn C++ usaremos `gcc 4.6` con optimización en la compilación(`-O3`). \n",
    "*\tEn Julia usaremos la versión 0.6.2 del lenguaje.\n",
    "\n",
    "#### C++\n",
    "\n",
    "Compilación: \n",
    "\n",
    "- `g++  -std=c++11 -O3 -o mult_matrix mult_matrix.cpp`\n",
    "- `time ./mult_matrix`\n",
    "\n",
    "```\n",
    "//Archivo: mult_matrix.cpp\n",
    "\n",
    "#include <iostream>\n",
    "#include <vector>\n",
    "\n",
    "using namespace std;\n",
    "\n",
    "int main(){\n",
    "\n",
    "    int const size = 2000;\n",
    "    vector<vector<int>> matrix1(size, vector<int>(size));\n",
    "    vector<vector<int>> matrix2(size, vector<int>(size));\n",
    "    vector<vector<int>> matrix3(size, vector<int>(size));\n",
    "\n",
    "    for (int i = 0; i < size; i++)\n",
    "    {\n",
    "       for (int j = 0; j < size; j++)\n",
    "       {\n",
    "            matrix1[i][j] = i+j;\n",
    "            matrix2[i][j] = i-j;\n",
    "       }\n",
    "    }\n",
    "    for (int i = 0; i < size; i++)\n",
    "    {\n",
    "       for (int j = 0; j < size; j++)\n",
    "       {\n",
    "          matrix3[i][j] = 0;\n",
    "          for (int k = 0; k < size; k++)\n",
    "          \tmatrix3[i][j] += matrix1[i][k] * matrix2[k][j];\n",
    "       }\n",
    "\t}\n",
    "}\n",
    "```\n",
    "\n",
    "#### Julia\n",
    "\n",
    "Compilación: \n",
    "\n",
    "- `time julia mult_matrix.jl`\n",
    "\n",
    "```\n",
    "#Archivo mult_matrix.jl\n",
    "\n",
    "function calculation(size::Int64)\n",
    "    matrix1 = zeros(Int, size, size)\n",
    "    matrix2 = zeros(Int, size, size)\n",
    "    matrix3 = zeros(Int, size, size)\n",
    "    for i in 1:size\n",
    "\t    @inbounds for j in 1:size\n",
    "            matrix1[i,j] = i+j\n",
    "            matrix2[i,j] = i-j\n",
    "\t    end\n",
    "    end\n",
    "    for i in 1:size\n",
    "        for j in 1:size\n",
    "            matrix3[i,j] = 0\n",
    "            @inbounds for k in 1:size\n",
    "                matrix3[i,j] += matrix1[i,k] * matrix2[k,j]\n",
    "            end\n",
    "        end\n",
    "    end\n",
    "end\n",
    "\n",
    "calculation(2000)\n",
    "```\n",
    "\n",
    "Algunas cosas interesante del código de Julia es que utilizando la macro `@inbounds` le decíamos al compilador que no realice comprobaciones en el indices de los arreglos, por ende el código assembly generado es menor(esto lo puedes comprobar con la macro `@code_native`), claramente se debe utilizar con cuidado. Por otra parte la función `zeros(:type, :row_dim, :col_dim)`, nos permite crear una matriz con un tipo de dato especifico y con el tamaño de la misma.\n",
    "\n",
    "#### Resultados\n",
    "\n",
    "| Lenguaje          |Tiempo(segundos)|\n",
    "| ----------------- |:--------------:|\n",
    "| C++/gcc 4.6\t\t\t|33.252 \t\t  \t| \n",
    "| Julia 0.6.2       |16.059         \t| \n",
    "\n",
    "![benchmark no-paralelo](benchmark-no-paralelo.png)\n",
    "\n",
    "### Multiples núcleos\n",
    "\n",
    "\n",
    "Para esto, usaremos C++ con OpenMP(una biblioteca para paralelismo de memoria compartida)[^openmp] y al igual que la prueba anterior Julia 0.6.2, el servidor de prueba es el mismo que mencionamos previamente en la sección de **paralelismo**, un servidor Intel(R) Xeon(R) de 16 núcleos cpu.\n",
    "\n",
    "#### C++\n",
    "\n",
    "Compilación: \n",
    "\n",
    "- `g++ -fopenmp -std=c++11 -O3 -o mult_matrix_parallel mult_matrix_parallel.cpp`\n",
    "\n",
    "```\n",
    "//Archivo: mult_matrix_parallel.cpp\n",
    "#include <iostream>\n",
    "#include <vector>\n",
    "\n",
    "using namespace std;\n",
    "\n",
    "int main(){\n",
    "\n",
    "\tint const size = 2000;\n",
    "\tvector<vector<long>> Mat1(size, vector<long>(size));\n",
    "\tvector<vector<long>> Mat2(size, vector<long>(size));\n",
    "\tvector<vector<long>> Mat3(size, vector<long>(size));\n",
    "\n",
    "\t#pragma omp parallel\n",
    "\t{\n",
    "\t\t#pragma omp for\n",
    "\t\tfor (int i = 0; i < size; i++)\n",
    "\t   \t{\n",
    "       \tfor (int j = 0; j < size; j++)\n",
    "\t       {\n",
    "\t\t\t\tMat1[i][j] = (i+j)+2;\n",
    "\t\t\t\tMat2[i][j] = (i-j)+2;\n",
    "\t\t   }\n",
    "\t\t}\n",
    "\t\t#pragma omp for\n",
    "\t\tfor (int i = 0; i < size; i++)\n",
    "\t\t{\n",
    "\t\t   for (int j = 0; j < size; j++)\n",
    "\t\t   {\n",
    "\t\t      Mat3[i][j] = 0;\n",
    "\t\t      for (int k = 0; k < size; k++)\n",
    "\t\t      \t\tMat3[i][j] += Mat1[i][k] * Mat2[k][j];\n",
    "\t\t\t}\n",
    "\t\t}\n",
    "\t}\n",
    "}\n",
    "```\n",
    "\n",
    "#### Julia\n",
    "\n",
    "Compilación: \n",
    "\n",
    "- `julia -p 16 -O3 mult_matrix_parallel.jl`\n",
    "\n",
    "```\n",
    "#//Archivo: mult_matrix_parallel.jl\n",
    "using BenchmarkTools, Compat\n",
    "\n",
    "function calculation(size::Int64)\n",
    "\n",
    "\tmatrix1 = SharedArray{Int, 2}(size, size)\n",
    "\tmatrix2 = SharedArray{Int, 2}(size, size)\n",
    "\tmatrix3 = SharedArray{Int, 2}(size, size)\n",
    "\n",
    "\t@sync @parallel for i in 1:size\n",
    "\t\t@inbounds for j in 1:size\n",
    "\t\t\tmatrix1[i,j] = i+j\n",
    "\t\t\tmatrix2[i,j] = i-j\n",
    "\t\tend\n",
    "\tend\n",
    "\t@sync @parallel for i in 1:size\n",
    "\t   for j in 1:size\n",
    "\t   \t\tmatrix3[i,j] = 0\n",
    "\t        @inbounds for k in 1:size\n",
    "            \tmatrix3[i,j] += matrix1[i,k] * matrix2[k,j]\n",
    "\t    \tend\n",
    "\t    end\n",
    "\tend\n",
    "end\n",
    "\n",
    "size = 2000\n",
    "@btime calculation(size)\n",
    "```\n",
    "\n",
    "Algo importante a mencionar del código superior de Julia, es que se agrega la macro `@sync` previo al `@parallel` para obligar a esperar que se termine todo el computo en paralelo para continuar al siguiente bloque.\n",
    "\n",
    "### Resultados\n",
    "\n",
    "| Lenguaje          |Tiempo(segundos)|\n",
    "| ----------------- |:--------------:|\n",
    "| C++/openmp/gcc 4.6|3.600\t\t    \t| \n",
    "| Julia 0.6         |5.938          \t| \n",
    "\n",
    "![benchmark paralelo](benchmark-paralelo.png)\n",
    "\n",
    "\n",
    "C++ y OpenMP superan a Julia en esta prueba, ahora, **no deja de ser sorprendente que la diferencia no es tan grande**. \n",
    "\n",
    "**Nota:** En el caso de C++/OpenMP probablemente exista una manera de hacer más eficiente el código.\n",
    "\n",
    "## Conclusión\n",
    "\n",
    "Julia representa una interesante propuesta para todo lo referente a ciencia de datos, y a pesar de que es nuevo(aún no esta en su versión 1.0), no deja de sorprender el rendimiento comparado a C++. A pesar de eso, C++ es un lenguaje para el  desarrollo de sistemas(bajo nivel y de alto rendimiento), y Julia no esta enfocado en competir en esa área, sino más bien en todo lo referente al análisis de datos.\n",
    "\n",
    "Para terminar, dejo algunas ventajas y desventajas que encontré del lenguaje:\n",
    "\n",
    "### Ventajas\n",
    "\n",
    "*\tPosee las ventajas de un lenguaje dinámico con la velocidad de computo de un lenguaje compilado.\n",
    "*  Interesante sistema de tipos y meta-programación.\n",
    "* \tIncorpora facilidades para manejar operaciones matemáticas, lo cual permite una fácil adopción para *científicos de datos*, sin sacrificar la velocidad de computo.\n",
    "\n",
    "### Desventajas\n",
    "\n",
    "*\tComparado a C++ ocupa más ram, casi el doble en algunos casos. Esto podría ser un problema si se quiere utilizar Julia en sistemas embebidos(empíricamente no lo comprobé).\n",
    "* \tLa comunidad es aún pequeña si le compara a lenguajes ya establecidos como Python. Esto podria ser solo una desventaja temporal.\n",
    "*  El sistema de instalación de paquetes aún no es robusto como otros, tales como `pip` y `npm`.\n",
    "\n",
    "\n",
    "\n",
    "## Referencias\n",
    "\n",
    "[^julia-high]: [Julia: High Performance Programming. Ivo Balbaert, Avik Sengupta, Malcolm Sherrington](https://www.amazon.com/Julia-Performance-Programming-Ivo-Balbaert-ebook/dp/B01MXS4IPT)\n",
    "\n",
    "[^julia-mast]: [Mastering Julia. Malcolm Sherrington](https://www.amazon.com/Mastering-Julia-Contemporary-Challenges-Programming-ebook/dp/B010T266RY/ref=sr_1_1?s=digital-text&ie=UTF8&qid=1521246511&sr=1-1&keywords=mastering+julia)\n",
    "[^homoiconicidad]: [https://es.wikipedia.org/wiki/Homoiconicidad]()\n",
    "[^openmp]: [What is OpenMP?](https://www.dartmouth.edu/~rc/classes/intro_openmp)\n",
    "[^juliadoc]:\t[https://docs.julialang.org/en/stable/manual/parallel-computing]()\n",
    "[^jit]: [https://es.wikipedia.org/wiki/M%C3%A9todo_justo_a_tiempo]()\n",
    "[^llvm]: [https://es.wikipedia.org/wiki/LLVM]()\n",
    "[^inter-php]: [http://php.net/manual/es/language.types.string.php]()\n",
    "[^fun-ord]: [https://es.wikipedia.org/wiki/Funci%C3%B3n_de_orden_superior]()\n",
    "[^single-dis]: [https://en.wikipedia.org/wiki/Dynamic_dispatch#Single_and_multiple_dispatch]()\n",
    "[^multiple-dis]: [https://en.wikipedia.org/wiki/Multiple_dispatch]()\n",
    "\n"
   ]
  },
  {
   "cell_type": "code",
   "execution_count": 72,
   "metadata": {
    "ExecuteTime": {
     "end_time": "2019-04-25T00:31:56.444000+02:00",
     "start_time": "2019-04-24T22:31:42.136Z"
    }
   },
   "outputs": [
    {
     "name": "stdout",
     "output_type": "stream",
     "text": [
      "\u001b[32m\u001b[1m  Updating\u001b[22m\u001b[39m registry at `~/.julia/registries/General`\n"
     ]
    },
    {
     "name": "stderr",
     "output_type": "stream",
     "text": [
      "┌ Warning: Some registries failed to update:\n",
      "│     — `~/.julia/registries/General` — registry dirty\n",
      "└ @ Pkg.API /Users/osx/buildbot/slave/package_osx64/build/usr/share/julia/stdlib/v1.0/Pkg/src/API.jl:157\n"
     ]
    },
    {
     "name": "stdout",
     "output_type": "stream",
     "text": [
      "\u001b[32m\u001b[1m Resolving\u001b[22m\u001b[39m package versions...\n",
      "\u001b[32m\u001b[1m  Updating\u001b[22m\u001b[39m `~/.julia/environments/v1.0/Project.toml`\n",
      "\u001b[90m [no changes]\u001b[39m\n",
      "\u001b[32m\u001b[1m  Updating\u001b[22m\u001b[39m `~/.julia/environments/v1.0/Manifest.toml`\n",
      "\u001b[90m [no changes]\u001b[39m\n"
     ]
    }
   ],
   "source": [
    "import Pkg\n",
    "Pkg.add(\"Plots\")"
   ]
  },
  {
   "cell_type": "code",
   "execution_count": 76,
   "metadata": {
    "ExecuteTime": {
     "end_time": "2019-04-25T00:35:16.462000+02:00",
     "start_time": "2019-04-24T22:35:10.708Z"
    }
   },
   "outputs": [
    {
     "data": {
      "image/svg+xml": [
       "<?xml version=\"1.0\" encoding=\"utf-8\"?>\n",
       "<svg xmlns=\"http://www.w3.org/2000/svg\" xmlns:xlink=\"http://www.w3.org/1999/xlink\" width=\"600\" height=\"400\" viewBox=\"0 0 2400 1600\">\n",
       "<defs>\n",
       "  <clipPath id=\"clip7800\">\n",
       "    <rect x=\"0\" y=\"0\" width=\"2000\" height=\"2000\"/>\n",
       "  </clipPath>\n",
       "</defs>\n",
       "<defs>\n",
       "  <clipPath id=\"clip7801\">\n",
       "    <rect x=\"0\" y=\"0\" width=\"2400\" height=\"1600\"/>\n",
       "  </clipPath>\n",
       "</defs>\n",
       "<polygon clip-path=\"url(#clip7801)\" points=\"\n",
       "0,1600 2400,1600 2400,0 0,0 \n",
       "  \" fill=\"#ffffff\" fill-rule=\"evenodd\" fill-opacity=\"1\"/>\n",
       "<defs>\n",
       "  <clipPath id=\"clip7802\">\n",
       "    <rect x=\"480\" y=\"0\" width=\"1681\" height=\"1600\"/>\n",
       "  </clipPath>\n",
       "</defs>\n",
       "<polygon clip-path=\"url(#clip7801)\" points=\"\n",
       "188.156,1503.47 2321.26,1503.47 2321.26,47.2441 188.156,47.2441 \n",
       "  \" fill=\"#ffffff\" fill-rule=\"evenodd\" fill-opacity=\"1\"/>\n",
       "<defs>\n",
       "  <clipPath id=\"clip7803\">\n",
       "    <rect x=\"188\" y=\"47\" width=\"2134\" height=\"1457\"/>\n",
       "  </clipPath>\n",
       "</defs>\n",
       "<polyline clip-path=\"url(#clip7803)\" style=\"stroke:#000000; stroke-width:2; stroke-opacity:0.1; fill:none\" points=\"\n",
       "  672.182,1503.47 672.182,47.2441 \n",
       "  \"/>\n",
       "<polyline clip-path=\"url(#clip7803)\" style=\"stroke:#000000; stroke-width:2; stroke-opacity:0.1; fill:none\" points=\"\n",
       "  1201.75,1503.47 1201.75,47.2441 \n",
       "  \"/>\n",
       "<polyline clip-path=\"url(#clip7803)\" style=\"stroke:#000000; stroke-width:2; stroke-opacity:0.1; fill:none\" points=\"\n",
       "  1731.32,1503.47 1731.32,47.2441 \n",
       "  \"/>\n",
       "<polyline clip-path=\"url(#clip7803)\" style=\"stroke:#000000; stroke-width:2; stroke-opacity:0.1; fill:none\" points=\"\n",
       "  2260.89,1503.47 2260.89,47.2441 \n",
       "  \"/>\n",
       "<polyline clip-path=\"url(#clip7803)\" style=\"stroke:#000000; stroke-width:2; stroke-opacity:0.1; fill:none\" points=\"\n",
       "  188.156,1464.66 2321.26,1464.66 \n",
       "  \"/>\n",
       "<polyline clip-path=\"url(#clip7803)\" style=\"stroke:#000000; stroke-width:2; stroke-opacity:0.1; fill:none\" points=\"\n",
       "  188.156,1120.43 2321.26,1120.43 \n",
       "  \"/>\n",
       "<polyline clip-path=\"url(#clip7803)\" style=\"stroke:#000000; stroke-width:2; stroke-opacity:0.1; fill:none\" points=\"\n",
       "  188.156,776.202 2321.26,776.202 \n",
       "  \"/>\n",
       "<polyline clip-path=\"url(#clip7803)\" style=\"stroke:#000000; stroke-width:2; stroke-opacity:0.1; fill:none\" points=\"\n",
       "  188.156,431.972 2321.26,431.972 \n",
       "  \"/>\n",
       "<polyline clip-path=\"url(#clip7803)\" style=\"stroke:#000000; stroke-width:2; stroke-opacity:0.1; fill:none\" points=\"\n",
       "  188.156,87.7411 2321.26,87.7411 \n",
       "  \"/>\n",
       "<polyline clip-path=\"url(#clip7801)\" style=\"stroke:#000000; stroke-width:4; stroke-opacity:1; fill:none\" points=\"\n",
       "  188.156,1503.47 2321.26,1503.47 \n",
       "  \"/>\n",
       "<polyline clip-path=\"url(#clip7801)\" style=\"stroke:#000000; stroke-width:4; stroke-opacity:1; fill:none\" points=\"\n",
       "  188.156,1503.47 188.156,47.2441 \n",
       "  \"/>\n",
       "<polyline clip-path=\"url(#clip7801)\" style=\"stroke:#000000; stroke-width:4; stroke-opacity:1; fill:none\" points=\"\n",
       "  672.182,1503.47 672.182,1481.63 \n",
       "  \"/>\n",
       "<polyline clip-path=\"url(#clip7801)\" style=\"stroke:#000000; stroke-width:4; stroke-opacity:1; fill:none\" points=\"\n",
       "  1201.75,1503.47 1201.75,1481.63 \n",
       "  \"/>\n",
       "<polyline clip-path=\"url(#clip7801)\" style=\"stroke:#000000; stroke-width:4; stroke-opacity:1; fill:none\" points=\"\n",
       "  1731.32,1503.47 1731.32,1481.63 \n",
       "  \"/>\n",
       "<polyline clip-path=\"url(#clip7801)\" style=\"stroke:#000000; stroke-width:4; stroke-opacity:1; fill:none\" points=\"\n",
       "  2260.89,1503.47 2260.89,1481.63 \n",
       "  \"/>\n",
       "<polyline clip-path=\"url(#clip7801)\" style=\"stroke:#000000; stroke-width:4; stroke-opacity:1; fill:none\" points=\"\n",
       "  188.156,1464.66 220.153,1464.66 \n",
       "  \"/>\n",
       "<polyline clip-path=\"url(#clip7801)\" style=\"stroke:#000000; stroke-width:4; stroke-opacity:1; fill:none\" points=\"\n",
       "  188.156,1120.43 220.153,1120.43 \n",
       "  \"/>\n",
       "<polyline clip-path=\"url(#clip7801)\" style=\"stroke:#000000; stroke-width:4; stroke-opacity:1; fill:none\" points=\"\n",
       "  188.156,776.202 220.153,776.202 \n",
       "  \"/>\n",
       "<polyline clip-path=\"url(#clip7801)\" style=\"stroke:#000000; stroke-width:4; stroke-opacity:1; fill:none\" points=\"\n",
       "  188.156,431.972 220.153,431.972 \n",
       "  \"/>\n",
       "<polyline clip-path=\"url(#clip7801)\" style=\"stroke:#000000; stroke-width:4; stroke-opacity:1; fill:none\" points=\"\n",
       "  188.156,87.7411 220.153,87.7411 \n",
       "  \"/>\n",
       "<g clip-path=\"url(#clip7801)\">\n",
       "<text style=\"fill:#000000; fill-opacity:1; font-family:Arial,Helvetica Neue,Helvetica,sans-serif; font-size:48px; text-anchor:middle;\" transform=\"rotate(0, 672.182, 1557.47)\" x=\"672.182\" y=\"1557.47\">5</text>\n",
       "</g>\n",
       "<g clip-path=\"url(#clip7801)\">\n",
       "<text style=\"fill:#000000; fill-opacity:1; font-family:Arial,Helvetica Neue,Helvetica,sans-serif; font-size:48px; text-anchor:middle;\" transform=\"rotate(0, 1201.75, 1557.47)\" x=\"1201.75\" y=\"1557.47\">10</text>\n",
       "</g>\n",
       "<g clip-path=\"url(#clip7801)\">\n",
       "<text style=\"fill:#000000; fill-opacity:1; font-family:Arial,Helvetica Neue,Helvetica,sans-serif; font-size:48px; text-anchor:middle;\" transform=\"rotate(0, 1731.32, 1557.47)\" x=\"1731.32\" y=\"1557.47\">15</text>\n",
       "</g>\n",
       "<g clip-path=\"url(#clip7801)\">\n",
       "<text style=\"fill:#000000; fill-opacity:1; font-family:Arial,Helvetica Neue,Helvetica,sans-serif; font-size:48px; text-anchor:middle;\" transform=\"rotate(0, 2260.89, 1557.47)\" x=\"2260.89\" y=\"1557.47\">20</text>\n",
       "</g>\n",
       "<g clip-path=\"url(#clip7801)\">\n",
       "<text style=\"fill:#000000; fill-opacity:1; font-family:Arial,Helvetica Neue,Helvetica,sans-serif; font-size:48px; text-anchor:end;\" transform=\"rotate(0, 164.156, 1482.16)\" x=\"164.156\" y=\"1482.16\">0.00</text>\n",
       "</g>\n",
       "<g clip-path=\"url(#clip7801)\">\n",
       "<text style=\"fill:#000000; fill-opacity:1; font-family:Arial,Helvetica Neue,Helvetica,sans-serif; font-size:48px; text-anchor:end;\" transform=\"rotate(0, 164.156, 1137.93)\" x=\"164.156\" y=\"1137.93\">0.25</text>\n",
       "</g>\n",
       "<g clip-path=\"url(#clip7801)\">\n",
       "<text style=\"fill:#000000; fill-opacity:1; font-family:Arial,Helvetica Neue,Helvetica,sans-serif; font-size:48px; text-anchor:end;\" transform=\"rotate(0, 164.156, 793.702)\" x=\"164.156\" y=\"793.702\">0.50</text>\n",
       "</g>\n",
       "<g clip-path=\"url(#clip7801)\">\n",
       "<text style=\"fill:#000000; fill-opacity:1; font-family:Arial,Helvetica Neue,Helvetica,sans-serif; font-size:48px; text-anchor:end;\" transform=\"rotate(0, 164.156, 449.472)\" x=\"164.156\" y=\"449.472\">0.75</text>\n",
       "</g>\n",
       "<g clip-path=\"url(#clip7801)\">\n",
       "<text style=\"fill:#000000; fill-opacity:1; font-family:Arial,Helvetica Neue,Helvetica,sans-serif; font-size:48px; text-anchor:end;\" transform=\"rotate(0, 164.156, 105.241)\" x=\"164.156\" y=\"105.241\">1.00</text>\n",
       "</g>\n",
       "<polyline clip-path=\"url(#clip7803)\" style=\"stroke:#009af9; stroke-width:4; stroke-opacity:1; fill:none\" points=\"\n",
       "  248.527,274.922 354.441,811.101 460.355,500.826 566.269,101.945 672.182,428.113 778.096,1345.74 884.01,1038.83 989.924,1109.92 1095.84,620.729 1201.75,1154.45 \n",
       "  1307.66,1192.26 1413.58,471.323 1519.49,88.4582 1625.41,385.425 1731.32,330.454 1837.23,766.268 1943.15,204.109 2049.06,104.037 2154.98,833.043 2260.89,1391.09 \n",
       "  \n",
       "  \"/>\n",
       "<polyline clip-path=\"url(#clip7803)\" style=\"stroke:#e26f46; stroke-width:4; stroke-opacity:1; fill:none\" points=\"\n",
       "  248.527,501.47 354.441,162.058 460.355,1293.8 566.269,136.46 672.182,422.037 778.096,569.385 884.01,603.828 989.924,721.139 1095.84,1371.59 1201.75,501.758 \n",
       "  1307.66,1043.15 1413.58,915.834 1519.49,1220.53 1625.41,566.956 1731.32,1296.95 1837.23,907.006 1943.15,1380.74 2049.06,1244.8 2154.98,291.12 2260.89,670.347 \n",
       "  \n",
       "  \"/>\n",
       "<polyline clip-path=\"url(#clip7803)\" style=\"stroke:#3da44d; stroke-width:4; stroke-opacity:1; fill:none\" points=\"\n",
       "  248.527,605.395 354.441,721.325 460.355,1345.85 566.269,434.996 672.182,1405.14 778.096,983.095 884.01,289.053 989.924,166.956 1095.84,1206.49 1201.75,279.987 \n",
       "  1307.66,997.679 1413.58,1162.91 1519.49,788.062 1625.41,1365.4 1731.32,1048.61 1837.23,791.035 1943.15,1022.94 2049.06,698.39 2154.98,526.604 2260.89,792.714 \n",
       "  \n",
       "  \"/>\n",
       "<polyline clip-path=\"url(#clip7803)\" style=\"stroke:#c271d2; stroke-width:4; stroke-opacity:1; fill:none\" points=\"\n",
       "  248.527,512.376 354.441,1228.93 460.355,1210.9 566.269,1344.91 672.182,1313.73 778.096,1191.32 884.01,874.357 989.924,794.379 1095.84,1417.36 1201.75,1413.11 \n",
       "  1307.66,682.819 1413.58,194.528 1519.49,1008.43 1625.41,459.843 1731.32,1273.9 1837.23,886.489 1943.15,573.417 2049.06,230.807 2154.98,385.016 2260.89,92.6103 \n",
       "  \n",
       "  \"/>\n",
       "<polyline clip-path=\"url(#clip7803)\" style=\"stroke:#ac8d18; stroke-width:4; stroke-opacity:1; fill:none\" points=\"\n",
       "  248.527,1437.48 354.441,1443.53 460.355,506.233 566.269,1244 672.182,561.865 778.096,1201.1 884.01,1185.74 989.924,1285.17 1095.84,197.354 1201.75,976.542 \n",
       "  1307.66,690.375 1413.58,459.648 1519.49,1360.48 1625.41,545.998 1731.32,488.499 1837.23,1462.26 1943.15,247.184 2049.06,527.973 2154.98,1266.82 2260.89,1105.05 \n",
       "  \n",
       "  \"/>\n",
       "<polyline clip-path=\"url(#clip7803)\" style=\"stroke:#00a9ad; stroke-width:4; stroke-opacity:1; fill:none\" points=\"\n",
       "  248.527,1013.78 354.441,1110.76 460.355,1112.74 566.269,714.394 672.182,280.522 778.096,1083.52 884.01,386.859 989.924,261.895 1095.84,823.012 1201.75,995.897 \n",
       "  1307.66,896.291 1413.58,1315.95 1519.49,556.136 1625.41,628.767 1731.32,984.822 1837.23,837.787 1943.15,290.17 2049.06,1035.93 2154.98,1425.44 2260.89,302.797 \n",
       "  \n",
       "  \"/>\n",
       "<polyline clip-path=\"url(#clip7803)\" style=\"stroke:#ed5d92; stroke-width:4; stroke-opacity:1; fill:none\" points=\"\n",
       "  248.527,92.6615 354.441,500.25 460.355,329.172 566.269,675.672 672.182,144.278 778.096,643.348 884.01,325.605 989.924,1288.78 1095.84,1428.33 1201.75,596.523 \n",
       "  1307.66,260.124 1413.58,164.823 1519.49,1043.82 1625.41,790.964 1731.32,1284.05 1837.23,688.465 1943.15,661.878 2049.06,403.929 2154.98,518.765 2260.89,115.042 \n",
       "  \n",
       "  \"/>\n",
       "<polyline clip-path=\"url(#clip7803)\" style=\"stroke:#c68125; stroke-width:4; stroke-opacity:1; fill:none\" points=\"\n",
       "  248.527,373.418 354.441,1026.38 460.355,1025.55 566.269,638.531 672.182,885.263 778.096,219.526 884.01,1381.82 989.924,191.003 1095.84,477.257 1201.75,924.238 \n",
       "  1307.66,1450 1413.58,836.381 1519.49,288.43 1625.41,995.795 1731.32,594.435 1837.23,230.014 1943.15,137.209 2049.06,535.663 2154.98,998.804 2260.89,1432.45 \n",
       "  \n",
       "  \"/>\n",
       "<polyline clip-path=\"url(#clip7803)\" style=\"stroke:#00a98d; stroke-width:4; stroke-opacity:1; fill:none\" points=\"\n",
       "  248.527,508.663 354.441,249.084 460.355,915.561 566.269,652.112 672.182,833.939 778.096,155.927 884.01,667.297 989.924,1134.39 1095.84,904.603 1201.75,917.17 \n",
       "  1307.66,1326.85 1413.58,800.427 1519.49,598.897 1625.41,1154.13 1731.32,1424.01 1837.23,214.206 1943.15,647.747 2049.06,1184.39 2154.98,288.853 2260.89,1453.92 \n",
       "  \n",
       "  \"/>\n",
       "<polyline clip-path=\"url(#clip7803)\" style=\"stroke:#8e971d; stroke-width:4; stroke-opacity:1; fill:none\" points=\"\n",
       "  248.527,308.097 354.441,520.894 460.355,108.778 566.269,1215.76 672.182,1053.06 778.096,873.619 884.01,1179.38 989.924,1403.37 1095.84,1300.06 1201.75,950.662 \n",
       "  1307.66,306.232 1413.58,792.831 1519.49,338.717 1625.41,1063.86 1731.32,397.852 1837.23,712.764 1943.15,821.357 2049.06,292.68 2154.98,337.592 2260.89,808.073 \n",
       "  \n",
       "  \"/>\n",
       "<polygon clip-path=\"url(#clip7801)\" points=\"\n",
       "1931.67,796.044 2249.26,796.044 2249.26,130.764 1931.67,130.764 \n",
       "  \" fill=\"#ffffff\" fill-rule=\"evenodd\" fill-opacity=\"1\"/>\n",
       "<polyline clip-path=\"url(#clip7801)\" style=\"stroke:#000000; stroke-width:4; stroke-opacity:1; fill:none\" points=\"\n",
       "  1931.67,796.044 2249.26,796.044 2249.26,130.764 1931.67,130.764 1931.67,796.044 \n",
       "  \"/>\n",
       "<polyline clip-path=\"url(#clip7801)\" style=\"stroke:#009af9; stroke-width:4; stroke-opacity:1; fill:none\" points=\"\n",
       "  1955.67,191.244 2099.67,191.244 \n",
       "  \"/>\n",
       "<g clip-path=\"url(#clip7801)\">\n",
       "<text style=\"fill:#000000; fill-opacity:1; font-family:Arial,Helvetica Neue,Helvetica,sans-serif; font-size:48px; text-anchor:start;\" transform=\"rotate(0, 2123.67, 208.744)\" x=\"2123.67\" y=\"208.744\">y1</text>\n",
       "</g>\n",
       "<polyline clip-path=\"url(#clip7801)\" style=\"stroke:#e26f46; stroke-width:4; stroke-opacity:1; fill:none\" points=\"\n",
       "  1955.67,251.724 2099.67,251.724 \n",
       "  \"/>\n",
       "<g clip-path=\"url(#clip7801)\">\n",
       "<text style=\"fill:#000000; fill-opacity:1; font-family:Arial,Helvetica Neue,Helvetica,sans-serif; font-size:48px; text-anchor:start;\" transform=\"rotate(0, 2123.67, 269.224)\" x=\"2123.67\" y=\"269.224\">y2</text>\n",
       "</g>\n",
       "<polyline clip-path=\"url(#clip7801)\" style=\"stroke:#3da44d; stroke-width:4; stroke-opacity:1; fill:none\" points=\"\n",
       "  1955.67,312.204 2099.67,312.204 \n",
       "  \"/>\n",
       "<g clip-path=\"url(#clip7801)\">\n",
       "<text style=\"fill:#000000; fill-opacity:1; font-family:Arial,Helvetica Neue,Helvetica,sans-serif; font-size:48px; text-anchor:start;\" transform=\"rotate(0, 2123.67, 329.704)\" x=\"2123.67\" y=\"329.704\">y3</text>\n",
       "</g>\n",
       "<polyline clip-path=\"url(#clip7801)\" style=\"stroke:#c271d2; stroke-width:4; stroke-opacity:1; fill:none\" points=\"\n",
       "  1955.67,372.684 2099.67,372.684 \n",
       "  \"/>\n",
       "<g clip-path=\"url(#clip7801)\">\n",
       "<text style=\"fill:#000000; fill-opacity:1; font-family:Arial,Helvetica Neue,Helvetica,sans-serif; font-size:48px; text-anchor:start;\" transform=\"rotate(0, 2123.67, 390.184)\" x=\"2123.67\" y=\"390.184\">y4</text>\n",
       "</g>\n",
       "<polyline clip-path=\"url(#clip7801)\" style=\"stroke:#ac8d18; stroke-width:4; stroke-opacity:1; fill:none\" points=\"\n",
       "  1955.67,433.164 2099.67,433.164 \n",
       "  \"/>\n",
       "<g clip-path=\"url(#clip7801)\">\n",
       "<text style=\"fill:#000000; fill-opacity:1; font-family:Arial,Helvetica Neue,Helvetica,sans-serif; font-size:48px; text-anchor:start;\" transform=\"rotate(0, 2123.67, 450.664)\" x=\"2123.67\" y=\"450.664\">y5</text>\n",
       "</g>\n",
       "<polyline clip-path=\"url(#clip7801)\" style=\"stroke:#00a9ad; stroke-width:4; stroke-opacity:1; fill:none\" points=\"\n",
       "  1955.67,493.644 2099.67,493.644 \n",
       "  \"/>\n",
       "<g clip-path=\"url(#clip7801)\">\n",
       "<text style=\"fill:#000000; fill-opacity:1; font-family:Arial,Helvetica Neue,Helvetica,sans-serif; font-size:48px; text-anchor:start;\" transform=\"rotate(0, 2123.67, 511.144)\" x=\"2123.67\" y=\"511.144\">y6</text>\n",
       "</g>\n",
       "<polyline clip-path=\"url(#clip7801)\" style=\"stroke:#ed5d92; stroke-width:4; stroke-opacity:1; fill:none\" points=\"\n",
       "  1955.67,554.124 2099.67,554.124 \n",
       "  \"/>\n",
       "<g clip-path=\"url(#clip7801)\">\n",
       "<text style=\"fill:#000000; fill-opacity:1; font-family:Arial,Helvetica Neue,Helvetica,sans-serif; font-size:48px; text-anchor:start;\" transform=\"rotate(0, 2123.67, 571.624)\" x=\"2123.67\" y=\"571.624\">y7</text>\n",
       "</g>\n",
       "<polyline clip-path=\"url(#clip7801)\" style=\"stroke:#c68125; stroke-width:4; stroke-opacity:1; fill:none\" points=\"\n",
       "  1955.67,614.604 2099.67,614.604 \n",
       "  \"/>\n",
       "<g clip-path=\"url(#clip7801)\">\n",
       "<text style=\"fill:#000000; fill-opacity:1; font-family:Arial,Helvetica Neue,Helvetica,sans-serif; font-size:48px; text-anchor:start;\" transform=\"rotate(0, 2123.67, 632.104)\" x=\"2123.67\" y=\"632.104\">y8</text>\n",
       "</g>\n",
       "<polyline clip-path=\"url(#clip7801)\" style=\"stroke:#00a98d; stroke-width:4; stroke-opacity:1; fill:none\" points=\"\n",
       "  1955.67,675.084 2099.67,675.084 \n",
       "  \"/>\n",
       "<g clip-path=\"url(#clip7801)\">\n",
       "<text style=\"fill:#000000; fill-opacity:1; font-family:Arial,Helvetica Neue,Helvetica,sans-serif; font-size:48px; text-anchor:start;\" transform=\"rotate(0, 2123.67, 692.584)\" x=\"2123.67\" y=\"692.584\">y9</text>\n",
       "</g>\n",
       "<polyline clip-path=\"url(#clip7801)\" style=\"stroke:#8e971d; stroke-width:4; stroke-opacity:1; fill:none\" points=\"\n",
       "  1955.67,735.564 2099.67,735.564 \n",
       "  \"/>\n",
       "<g clip-path=\"url(#clip7801)\">\n",
       "<text style=\"fill:#000000; fill-opacity:1; font-family:Arial,Helvetica Neue,Helvetica,sans-serif; font-size:48px; text-anchor:start;\" transform=\"rotate(0, 2123.67, 753.064)\" x=\"2123.67\" y=\"753.064\">y10</text>\n",
       "</g>\n",
       "</svg>\n"
      ]
     },
     "execution_count": 76,
     "metadata": {},
     "output_type": "execute_result"
    }
   ],
   "source": [
    "using Plots\n",
    "gr()\n",
    "plot(rand(20, 10))"
   ]
  },
  {
   "cell_type": "code",
   "execution_count": 77,
   "metadata": {
    "ExecuteTime": {
     "end_time": "2019-04-25T00:35:20.694000+02:00",
     "start_time": "2019-04-24T22:35:20.328Z"
    }
   },
   "outputs": [
    {
     "data": {
      "image/png": "[encoded data removed]"
     },
     "execution_count": 77,
     "metadata": {},
     "output_type": "execute_result"
    }
   ],
   "source": [
    "\n",
    "pyplot() # based on matplotlib\n",
    "plot(rand(20, 10))"
   ]
  },
  {
   "cell_type": "code",
   "execution_count": 75,
   "metadata": {
    "ExecuteTime": {
     "end_time": "2019-04-25T00:35:00.335000+02:00",
     "start_time": "2019-04-24T22:34:51.160Z"
    }
   },
   "outputs": [
    {
     "data": {
      "text/html": [
       "    <script type=\"text/javascript\">\n",
       "        requirejs([\"https://cdn.plot.ly/plotly-latest.min.js\"], function(p) {\n",
       "            window.Plotly = p\n",
       "        });\n",
       "    </script>\n"
      ]
     },
     "metadata": {},
     "output_type": "display_data"
    },
    {
     "data": {
      "application/vnd.plotly.v1+json": {
       "data": [
        {
         "colorbar": {
          "title": ""
         },
         "hoverinfo": "text",
         "legendgroup": "y1",
         "line": {
          "color": "rgba(0, 154, 250, 1.000)",
          "dash": "solid",
          "shape": "linear",
          "width": 1
         },
         "mode": "lines",
         "name": "y1",
         "showlegend": true,
         "text": [
          null,
          null,
          null,
          null,
          null,
          null,
          null,
          null,
          null,
          null,
          null,
          null,
          null,
          null,
          null,
          null,
          null,
          null,
          null,
          null
         ],
         "type": "scatter",
         "x": [
          1,
          2,
          3,
          4,
          5,
          6,
          7,
          8,
          9,
          10,
          11,
          12,
          13,
          14,
          15,
          16,
          17,
          18,
          19,
          20
         ],
         "xaxis": "x1",
         "y": [
          0.35456095703491797,
          0.36230124910052397,
          0.38074814319195727,
          0.9378895089382204,
          0.18119686885711395,
          0.13261791617501406,
          0.21812659448464178,
          0.5060464671597464,
          0.31118120040537356,
          0.5139505025131847,
          0.07644939471625278,
          0.0885787321888305,
          0.9241340120095398,
          0.5142684908924469,
          0.8142524175937755,
          0.4968939775456911,
          0.4024683555436812,
          0.9323162551244415,
          0.06060418205163476,
          0.2857529782334536
         ],
         "yaxis": "y1",
         "zmax": 0.1,
         "zmin": -0.1
        },
        {
         "colorbar": {
          "title": ""
         },
         "hoverinfo": "text",
         "legendgroup": "y2",
         "line": {
          "color": "rgba(227, 111, 71, 1.000)",
          "dash": "solid",
          "shape": "linear",
          "width": 1
         },
         "mode": "lines",
         "name": "y2",
         "showlegend": true,
         "text": [
          null,
          null,
          null,
          null,
          null,
          null,
          null,
          null,
          null,
          null,
          null,
          null,
          null,
          null,
          null,
          null,
          null,
          null,
          null,
          null
         ],
         "type": "scatter",
         "x": [
          1,
          2,
          3,
          4,
          5,
          6,
          7,
          8,
          9,
          10,
          11,
          12,
          13,
          14,
          15,
          16,
          17,
          18,
          19,
          20
         ],
         "xaxis": "x1",
         "y": [
          0.46326118674690364,
          0.527863627830077,
          0.9140486654991584,
          0.4683649939937782,
          0.7990484721633431,
          0.21855510839642345,
          0.16791502566851024,
          0.07416862837654814,
          0.534689790204053,
          0.4217903779002685,
          0.8628034113978122,
          0.8716302938822023,
          0.5575452857441303,
          0.44227213063825044,
          0.9003439328831724,
          0.7197364565045778,
          0.7464614291524267,
          0.9407961876811521,
          0.011911756065962287,
          0.41814349086246105
         ],
         "yaxis": "y1",
         "zmax": 0.1,
         "zmin": -0.1
        },
        {
         "colorbar": {
          "title": ""
         },
         "hoverinfo": "text",
         "legendgroup": "y3",
         "line": {
          "color": "rgba(62, 164, 78, 1.000)",
          "dash": "solid",
          "shape": "linear",
          "width": 1
         },
         "mode": "lines",
         "name": "y3",
         "showlegend": true,
         "text": [
          null,
          null,
          null,
          null,
          null,
          null,
          null,
          null,
          null,
          null,
          null,
          null,
          null,
          null,
          null,
          null,
          null,
          null,
          null,
          null
         ],
         "type": "scatter",
         "x": [
          1,
          2,
          3,
          4,
          5,
          6,
          7,
          8,
          9,
          10,
          11,
          12,
          13,
          14,
          15,
          16,
          17,
          18,
          19,
          20
         ],
         "xaxis": "x1",
         "y": [
          0.8473456112817339,
          0.7338664984496368,
          0.2773094506136442,
          0.0909412263340943,
          0.8594733021043892,
          0.1127364011272709,
          0.3591559436931191,
          0.6203364590634017,
          0.9727715229134053,
          0.30793348864916337,
          0.13389651421224302,
          0.6883047829884976,
          0.45024415173999843,
          0.1772447690720218,
          0.5162752738641303,
          0.6512866853735544,
          0.6645527980203416,
          0.19693239690386544,
          0.9213501737345364,
          0.9575288699291973
         ],
         "yaxis": "y1",
         "zmax": 0.1,
         "zmin": -0.1
        },
        {
         "colorbar": {
          "title": ""
         },
         "hoverinfo": "text",
         "legendgroup": "y4",
         "line": {
          "color": "rgba(195, 113, 210, 1.000)",
          "dash": "solid",
          "shape": "linear",
          "width": 1
         },
         "mode": "lines",
         "name": "y4",
         "showlegend": true,
         "text": [
          null,
          null,
          null,
          null,
          null,
          null,
          null,
          null,
          null,
          null,
          null,
          null,
          null,
          null,
          null,
          null,
          null,
          null,
          null,
          null
         ],
         "type": "scatter",
         "x": [
          1,
          2,
          3,
          4,
          5,
          6,
          7,
          8,
          9,
          10,
          11,
          12,
          13,
          14,
          15,
          16,
          17,
          18,
          19,
          20
         ],
         "xaxis": "x1",
         "y": [
          0.5968951265933236,
          0.5273026712997129,
          0.7466787675202216,
          0.6708211849520016,
          0.6296862311429146,
          0.6209193216351512,
          0.5565064727958002,
          0.8555757779502149,
          0.9843639041380488,
          0.8678823267614706,
          0.4629690488413194,
          0.7309527207742696,
          0.2560649715885561,
          0.04760969662584991,
          0.629370236017111,
          0.0795391294787755,
          0.2563833156776856,
          0.6276553543885832,
          0.3414185856189329,
          0.25135795651857284
         ],
         "yaxis": "y1",
         "zmax": 0.1,
         "zmin": -0.1
        },
        {
         "colorbar": {
          "title": ""
         },
         "hoverinfo": "text",
         "legendgroup": "y5",
         "line": {
          "color": "rgba(172, 142, 24, 1.000)",
          "dash": "solid",
          "shape": "linear",
          "width": 1
         },
         "mode": "lines",
         "name": "y5",
         "showlegend": true,
         "text": [
          null,
          null,
          null,
          null,
          null,
          null,
          null,
          null,
          null,
          null,
          null,
          null,
          null,
          null,
          null,
          null,
          null,
          null,
          null,
          null
         ],
         "type": "scatter",
         "x": [
          1,
          2,
          3,
          4,
          5,
          6,
          7,
          8,
          9,
          10,
          11,
          12,
          13,
          14,
          15,
          16,
          17,
          18,
          19,
          20
         ],
         "xaxis": "x1",
         "y": [
          0.6465699715344913,
          0.23643965652860732,
          0.16904083147595728,
          0.20877971760134661,
          0.8526408693496539,
          0.9857957828920845,
          0.8399105700732592,
          0.5221183215662304,
          0.4909670920911293,
          0.2696996740231561,
          0.3596337751583878,
          0.6088344195326019,
          0.09071989310637019,
          0.23340948768301661,
          0.46587384968983536,
          0.6498382952790911,
          0.14701291585006127,
          0.7777792195124296,
          0.8758416083741138,
          0.6221472220308508
         ],
         "yaxis": "y1",
         "zmax": 0.1,
         "zmin": -0.1
        },
        {
         "colorbar": {
          "title": ""
         },
         "hoverinfo": "text",
         "legendgroup": "y6",
         "line": {
          "color": "rgba(0, 170, 174, 1.000)",
          "dash": "solid",
          "shape": "linear",
          "width": 1
         },
         "mode": "lines",
         "name": "y6",
         "showlegend": true,
         "text": [
          null,
          null,
          null,
          null,
          null,
          null,
          null,
          null,
          null,
          null,
          null,
          null,
          null,
          null,
          null,
          null,
          null,
          null,
          null,
          null
         ],
         "type": "scatter",
         "x": [
          1,
          2,
          3,
          4,
          5,
          6,
          7,
          8,
          9,
          10,
          11,
          12,
          13,
          14,
          15,
          16,
          17,
          18,
          19,
          20
         ],
         "xaxis": "x1",
         "y": [
          0.050220903810372475,
          0.2732861621248319,
          0.2884594072345672,
          0.6784577558840508,
          0.15844410030456424,
          0.059104311497556905,
          0.5026453654434573,
          0.9702356451468439,
          0.2484096725350211,
          0.7684256451233002,
          0.18535807140056093,
          0.5550327581230756,
          0.19360828888241977,
          0.38543874925764054,
          0.874342793341929,
          0.654451279113514,
          0.6674830055535841,
          0.6618603282616893,
          0.06589760501745068,
          0.9494500666156618
         ],
         "yaxis": "y1",
         "zmax": 0.1,
         "zmin": -0.1
        },
        {
         "colorbar": {
          "title": ""
         },
         "hoverinfo": "text",
         "legendgroup": "y7",
         "line": {
          "color": "rgba(237, 94, 147, 1.000)",
          "dash": "solid",
          "shape": "linear",
          "width": 1
         },
         "mode": "lines",
         "name": "y7",
         "showlegend": true,
         "text": [
          null,
          null,
          null,
          null,
          null,
          null,
          null,
          null,
          null,
          null,
          null,
          null,
          null,
          null,
          null,
          null,
          null,
          null,
          null,
          null
         ],
         "type": "scatter",
         "x": [
          1,
          2,
          3,
          4,
          5,
          6,
          7,
          8,
          9,
          10,
          11,
          12,
          13,
          14,
          15,
          16,
          17,
          18,
          19,
          20
         ],
         "xaxis": "x1",
         "y": [
          0.8828435840886892,
          0.059052660649971056,
          0.17636934777274305,
          0.06641535461849646,
          0.1713344663078904,
          0.2373878746814615,
          0.5543593512916898,
          0.43998545449012316,
          0.5246177954965823,
          0.0237267281315221,
          0.4834143487890681,
          0.9347962507601506,
          0.5143170713647913,
          0.5157631629818247,
          0.5592980633972404,
          0.31826566780607557,
          0.5832454925261055,
          0.7278736449063892,
          0.7244966377536077,
          0.6698482979575133
         ],
         "yaxis": "y1",
         "zmax": 0.1,
         "zmin": -0.1
        },
        {
         "colorbar": {
          "title": ""
         },
         "hoverinfo": "text",
         "legendgroup": "y8",
         "line": {
          "color": "rgba(198, 130, 37, 1.000)",
          "dash": "solid",
          "shape": "linear",
          "width": 1
         },
         "mode": "lines",
         "name": "y8",
         "showlegend": true,
         "text": [
          null,
          null,
          null,
          null,
          null,
          null,
          null,
          null,
          null,
          null,
          null,
          null,
          null,
          null,
          null,
          null,
          null,
          null,
          null,
          null
         ],
         "type": "scatter",
         "x": [
          1,
          2,
          3,
          4,
          5,
          6,
          7,
          8,
          9,
          10,
          11,
          12,
          13,
          14,
          15,
          16,
          17,
          18,
          19,
          20
         ],
         "xaxis": "x1",
         "y": [
          0.8187438415369246,
          0.9644407713643994,
          0.8307243722868418,
          0.5894640329171357,
          0.7390058494391498,
          0.20890986803341738,
          0.735962172670783,
          0.7460018410985039,
          0.1492478194892668,
          0.031011006640254024,
          0.14752057210712488,
          0.34704011913572197,
          0.06100423582077319,
          0.47196224871147563,
          0.8736848692379071,
          0.7509039362015042,
          0.9954020842205815,
          0.09055857747251128,
          0.11292852383178276,
          0.4780993174736252
         ],
         "yaxis": "y1",
         "zmax": 0.1,
         "zmin": -0.1
        },
        {
         "colorbar": {
          "title": ""
         },
         "hoverinfo": "text",
         "legendgroup": "y9",
         "line": {
          "color": "rgba(0, 169, 141, 1.000)",
          "dash": "solid",
          "shape": "linear",
          "width": 1
         },
         "mode": "lines",
         "name": "y9",
         "showlegend": true,
         "text": [
          null,
          null,
          null,
          null,
          null,
          null,
          null,
          null,
          null,
          null,
          null,
          null,
          null,
          null,
          null,
          null,
          null,
          null,
          null,
          null
         ],
         "type": "scatter",
         "x": [
          1,
          2,
          3,
          4,
          5,
          6,
          7,
          8,
          9,
          10,
          11,
          12,
          13,
          14,
          15,
          16,
          17,
          18,
          19,
          20
         ],
         "xaxis": "x1",
         "y": [
          0.533240714697772,
          0.3843639556086633,
          0.8072932738164633,
          0.5838377790908114,
          0.8202611598948844,
          0.7015949418782512,
          0.9198501773185537,
          0.7963980428482009,
          0.6281360471260578,
          0.8645625699526385,
          0.6716040001768906,
          0.3540882740930611,
          0.5788957570622342,
          0.5475009306655263,
          0.2178226678795272,
          0.5316530942286672,
          0.12430437119480375,
          0.15854559485480002,
          0.1164253813840197,
          0.6451866930936474
         ],
         "yaxis": "y1",
         "zmax": 0.1,
         "zmin": -0.1
        },
        {
         "colorbar": {
          "title": ""
         },
         "hoverinfo": "text",
         "legendgroup": "y10",
         "line": {
          "color": "rgba(142, 151, 30, 1.000)",
          "dash": "solid",
          "shape": "linear",
          "width": 1
         },
         "mode": "lines",
         "name": "y10",
         "showlegend": true,
         "text": [
          null,
          null,
          null,
          null,
          null,
          null,
          null,
          null,
          null,
          null,
          null,
          null,
          null,
          null,
          null,
          null,
          null,
          null,
          null,
          null
         ],
         "type": "scatter",
         "x": [
          1,
          2,
          3,
          4,
          5,
          6,
          7,
          8,
          9,
          10,
          11,
          12,
          13,
          14,
          15,
          16,
          17,
          18,
          19,
          20
         ],
         "xaxis": "x1",
         "y": [
          0.8814055396676084,
          0.3207372678335103,
          0.3386961416196803,
          0.8897448742689096,
          0.8762773064679754,
          0.9322979187309608,
          0.672046497798398,
          0.8430114162518401,
          0.09358653162787522,
          0.835176951415485,
          0.6529934865817419,
          0.9189238992758251,
          0.9761827042994042,
          0.8761650393194065,
          0.4394368455162858,
          0.8243082320076767,
          0.08898216285018656,
          0.6362350981510714,
          0.2687190072145378,
          0.6122017236519139
         ],
         "yaxis": "y1",
         "zmax": 0.1,
         "zmin": -0.1
        }
       ],
       "layout": {
        "annotations": [],
        "height": 400,
        "legend": {
         "bgcolor": "rgba(255, 255, 255, 1.000)",
         "bordercolor": "rgba(0, 0, 0, 1.000)",
         "font": {
          "color": "rgba(0, 0, 0, 1.000)",
          "family": "sans-serif",
          "size": 11
         },
         "tracegroupgap": 0,
         "x": 1,
         "y": 1
        },
        "margin": {
         "b": 20,
         "l": 0,
         "r": 0,
         "t": 20
        },
        "paper_bgcolor": "rgba(255, 255, 255, 1.000)",
        "plot_bgcolor": "rgba(255, 255, 255, 1.000)",
        "showlegend": true,
        "width": 600,
        "xaxis": {
         "anchor": "y1",
         "domain": [
          0.0658209390492855,
          0.9934383202099738
         ],
         "gridcolor": "rgba(0, 0, 0, 0.100)",
         "gridwidth": 0.5,
         "linecolor": "rgba(0, 0, 0, 1.000)",
         "mirror": false,
         "range": [
          0.43000000000000005,
          20.57
         ],
         "showgrid": true,
         "showline": true,
         "showticklabels": true,
         "tickangle": 0,
         "tickcolor": "rgb(0, 0, 0)",
         "tickfont": {
          "color": "rgba(0, 0, 0, 1.000)",
          "family": "sans-serif",
          "size": 11
         },
         "tickmode": "array",
         "ticks": "inside",
         "ticktext": [
          "5",
          "10",
          "15",
          "20"
         ],
         "tickvals": [
          5,
          10,
          15,
          20
         ],
         "title": "",
         "titlefont": {
          "color": "rgba(0, 0, 0, 1.000)",
          "family": "sans-serif",
          "size": 15
         },
         "type": "-",
         "visible": true,
         "zeroline": false,
         "zerolinecolor": "rgba(0, 0, 0, 1.000)"
        },
        "yaxis": {
         "anchor": "x1",
         "domain": [
          0.03762029746281716,
          0.9901574803149606
         ],
         "gridcolor": "rgba(0, 0, 0, 0.100)",
         "gridwidth": 0.5,
         "linecolor": "rgba(0, 0, 0, 1.000)",
         "mirror": false,
         "range": [
          -0.017592953778676288,
          1.0249067940652201
         ],
         "showgrid": true,
         "showline": true,
         "showticklabels": true,
         "tickangle": 0,
         "tickcolor": "rgb(0, 0, 0)",
         "tickfont": {
          "color": "rgba(0, 0, 0, 1.000)",
          "family": "sans-serif",
          "size": 11
         },
         "tickmode": "array",
         "ticks": "inside",
         "ticktext": [
          "0.00",
          "0.25",
          "0.50",
          "0.75",
          "1.00"
         ],
         "tickvals": [
          0,
          0.25,
          0.5,
          0.75,
          1
         ],
         "title": "",
         "titlefont": {
          "color": "rgba(0, 0, 0, 1.000)",
          "family": "sans-serif",
          "size": 15
         },
         "type": "-",
         "visible": true,
         "zeroline": false,
         "zerolinecolor": "rgba(0, 0, 0, 1.000)"
        }
       }
      },
      "text/html": [
       "    <div id=\"1f9a1ac2-ae84-49a8-8b01-4d55f358a2ca\" style=\"width:600px;height:400px;\"></div>\n",
       "    <script>\n",
       "    PLOT = document.getElementById('1f9a1ac2-ae84-49a8-8b01-4d55f358a2ca');\n",
       "    Plotly.plot(PLOT, [{\"xaxis\":\"x1\",\"colorbar\":{\"title\":\"\"},\"yaxis\":\"y1\",\"text\":[null,null,null,null,null,null,null,null,null,null,null,null,null,null,null,null,null,null,null,null],\"x\":[1,2,3,4,5,6,7,8,9,10,11,12,13,14,15,16,17,18,19,20],\"showlegend\":true,\"mode\":\"lines\",\"name\":\"y1\",\"zmin\":-0.1,\"legendgroup\":\"y1\",\"zmax\":0.1,\"line\":{\"color\":\"rgba(0, 154, 250, 1.000)\",\"shape\":\"linear\",\"dash\":\"solid\",\"width\":1},\"y\":[0.35456095703491797,0.36230124910052397,0.38074814319195727,0.9378895089382204,0.18119686885711395,0.13261791617501406,0.21812659448464178,0.5060464671597464,0.31118120040537356,0.5139505025131847,0.07644939471625278,0.0885787321888305,0.9241340120095398,0.5142684908924469,0.8142524175937755,0.4968939775456911,0.4024683555436812,0.9323162551244415,0.06060418205163476,0.2857529782334536],\"type\":\"scatter\",\"hoverinfo\":\"text\"},{\"xaxis\":\"x1\",\"colorbar\":{\"title\":\"\"},\"yaxis\":\"y1\",\"text\":[null,null,null,null,null,null,null,null,null,null,null,null,null,null,null,null,null,null,null,null],\"x\":[1,2,3,4,5,6,7,8,9,10,11,12,13,14,15,16,17,18,19,20],\"showlegend\":true,\"mode\":\"lines\",\"name\":\"y2\",\"zmin\":-0.1,\"legendgroup\":\"y2\",\"zmax\":0.1,\"line\":{\"color\":\"rgba(227, 111, 71, 1.000)\",\"shape\":\"linear\",\"dash\":\"solid\",\"width\":1},\"y\":[0.46326118674690364,0.527863627830077,0.9140486654991584,0.4683649939937782,0.7990484721633431,0.21855510839642345,0.16791502566851024,0.07416862837654814,0.534689790204053,0.4217903779002685,0.8628034113978122,0.8716302938822023,0.5575452857441303,0.44227213063825044,0.9003439328831724,0.7197364565045778,0.7464614291524267,0.9407961876811521,0.011911756065962287,0.41814349086246105],\"type\":\"scatter\",\"hoverinfo\":\"text\"},{\"xaxis\":\"x1\",\"colorbar\":{\"title\":\"\"},\"yaxis\":\"y1\",\"text\":[null,null,null,null,null,null,null,null,null,null,null,null,null,null,null,null,null,null,null,null],\"x\":[1,2,3,4,5,6,7,8,9,10,11,12,13,14,15,16,17,18,19,20],\"showlegend\":true,\"mode\":\"lines\",\"name\":\"y3\",\"zmin\":-0.1,\"legendgroup\":\"y3\",\"zmax\":0.1,\"line\":{\"color\":\"rgba(62, 164, 78, 1.000)\",\"shape\":\"linear\",\"dash\":\"solid\",\"width\":1},\"y\":[0.8473456112817339,0.7338664984496368,0.2773094506136442,0.0909412263340943,0.8594733021043892,0.1127364011272709,0.3591559436931191,0.6203364590634017,0.9727715229134053,0.30793348864916337,0.13389651421224302,0.6883047829884976,0.45024415173999843,0.1772447690720218,0.5162752738641303,0.6512866853735544,0.6645527980203416,0.19693239690386544,0.9213501737345364,0.9575288699291973],\"type\":\"scatter\",\"hoverinfo\":\"text\"},{\"xaxis\":\"x1\",\"colorbar\":{\"title\":\"\"},\"yaxis\":\"y1\",\"text\":[null,null,null,null,null,null,null,null,null,null,null,null,null,null,null,null,null,null,null,null],\"x\":[1,2,3,4,5,6,7,8,9,10,11,12,13,14,15,16,17,18,19,20],\"showlegend\":true,\"mode\":\"lines\",\"name\":\"y4\",\"zmin\":-0.1,\"legendgroup\":\"y4\",\"zmax\":0.1,\"line\":{\"color\":\"rgba(195, 113, 210, 1.000)\",\"shape\":\"linear\",\"dash\":\"solid\",\"width\":1},\"y\":[0.5968951265933236,0.5273026712997129,0.7466787675202216,0.6708211849520016,0.6296862311429146,0.6209193216351512,0.5565064727958002,0.8555757779502149,0.9843639041380488,0.8678823267614706,0.4629690488413194,0.7309527207742696,0.2560649715885561,0.04760969662584991,0.629370236017111,0.0795391294787755,0.2563833156776856,0.6276553543885832,0.3414185856189329,0.25135795651857284],\"type\":\"scatter\",\"hoverinfo\":\"text\"},{\"xaxis\":\"x1\",\"colorbar\":{\"title\":\"\"},\"yaxis\":\"y1\",\"text\":[null,null,null,null,null,null,null,null,null,null,null,null,null,null,null,null,null,null,null,null],\"x\":[1,2,3,4,5,6,7,8,9,10,11,12,13,14,15,16,17,18,19,20],\"showlegend\":true,\"mode\":\"lines\",\"name\":\"y5\",\"zmin\":-0.1,\"legendgroup\":\"y5\",\"zmax\":0.1,\"line\":{\"color\":\"rgba(172, 142, 24, 1.000)\",\"shape\":\"linear\",\"dash\":\"solid\",\"width\":1},\"y\":[0.6465699715344913,0.23643965652860732,0.16904083147595728,0.20877971760134661,0.8526408693496539,0.9857957828920845,0.8399105700732592,0.5221183215662304,0.4909670920911293,0.2696996740231561,0.3596337751583878,0.6088344195326019,0.09071989310637019,0.23340948768301661,0.46587384968983536,0.6498382952790911,0.14701291585006127,0.7777792195124296,0.8758416083741138,0.6221472220308508],\"type\":\"scatter\",\"hoverinfo\":\"text\"},{\"xaxis\":\"x1\",\"colorbar\":{\"title\":\"\"},\"yaxis\":\"y1\",\"text\":[null,null,null,null,null,null,null,null,null,null,null,null,null,null,null,null,null,null,null,null],\"x\":[1,2,3,4,5,6,7,8,9,10,11,12,13,14,15,16,17,18,19,20],\"showlegend\":true,\"mode\":\"lines\",\"name\":\"y6\",\"zmin\":-0.1,\"legendgroup\":\"y6\",\"zmax\":0.1,\"line\":{\"color\":\"rgba(0, 170, 174, 1.000)\",\"shape\":\"linear\",\"dash\":\"solid\",\"width\":1},\"y\":[0.050220903810372475,0.2732861621248319,0.2884594072345672,0.6784577558840508,0.15844410030456424,0.059104311497556905,0.5026453654434573,0.9702356451468439,0.2484096725350211,0.7684256451233002,0.18535807140056093,0.5550327581230756,0.19360828888241977,0.38543874925764054,0.874342793341929,0.654451279113514,0.6674830055535841,0.6618603282616893,0.06589760501745068,0.9494500666156618],\"type\":\"scatter\",\"hoverinfo\":\"text\"},{\"xaxis\":\"x1\",\"colorbar\":{\"title\":\"\"},\"yaxis\":\"y1\",\"text\":[null,null,null,null,null,null,null,null,null,null,null,null,null,null,null,null,null,null,null,null],\"x\":[1,2,3,4,5,6,7,8,9,10,11,12,13,14,15,16,17,18,19,20],\"showlegend\":true,\"mode\":\"lines\",\"name\":\"y7\",\"zmin\":-0.1,\"legendgroup\":\"y7\",\"zmax\":0.1,\"line\":{\"color\":\"rgba(237, 94, 147, 1.000)\",\"shape\":\"linear\",\"dash\":\"solid\",\"width\":1},\"y\":[0.8828435840886892,0.059052660649971056,0.17636934777274305,0.06641535461849646,0.1713344663078904,0.2373878746814615,0.5543593512916898,0.43998545449012316,0.5246177954965823,0.0237267281315221,0.4834143487890681,0.9347962507601506,0.5143170713647913,0.5157631629818247,0.5592980633972404,0.31826566780607557,0.5832454925261055,0.7278736449063892,0.7244966377536077,0.6698482979575133],\"type\":\"scatter\",\"hoverinfo\":\"text\"},{\"xaxis\":\"x1\",\"colorbar\":{\"title\":\"\"},\"yaxis\":\"y1\",\"text\":[null,null,null,null,null,null,null,null,null,null,null,null,null,null,null,null,null,null,null,null],\"x\":[1,2,3,4,5,6,7,8,9,10,11,12,13,14,15,16,17,18,19,20],\"showlegend\":true,\"mode\":\"lines\",\"name\":\"y8\",\"zmin\":-0.1,\"legendgroup\":\"y8\",\"zmax\":0.1,\"line\":{\"color\":\"rgba(198, 130, 37, 1.000)\",\"shape\":\"linear\",\"dash\":\"solid\",\"width\":1},\"y\":[0.8187438415369246,0.9644407713643994,0.8307243722868418,0.5894640329171357,0.7390058494391498,0.20890986803341738,0.735962172670783,0.7460018410985039,0.1492478194892668,0.031011006640254024,0.14752057210712488,0.34704011913572197,0.06100423582077319,0.47196224871147563,0.8736848692379071,0.7509039362015042,0.9954020842205815,0.09055857747251128,0.11292852383178276,0.4780993174736252],\"type\":\"scatter\",\"hoverinfo\":\"text\"},{\"xaxis\":\"x1\",\"colorbar\":{\"title\":\"\"},\"yaxis\":\"y1\",\"text\":[null,null,null,null,null,null,null,null,null,null,null,null,null,null,null,null,null,null,null,null],\"x\":[1,2,3,4,5,6,7,8,9,10,11,12,13,14,15,16,17,18,19,20],\"showlegend\":true,\"mode\":\"lines\",\"name\":\"y9\",\"zmin\":-0.1,\"legendgroup\":\"y9\",\"zmax\":0.1,\"line\":{\"color\":\"rgba(0, 169, 141, 1.000)\",\"shape\":\"linear\",\"dash\":\"solid\",\"width\":1},\"y\":[0.533240714697772,0.3843639556086633,0.8072932738164633,0.5838377790908114,0.8202611598948844,0.7015949418782512,0.9198501773185537,0.7963980428482009,0.6281360471260578,0.8645625699526385,0.6716040001768906,0.3540882740930611,0.5788957570622342,0.5475009306655263,0.2178226678795272,0.5316530942286672,0.12430437119480375,0.15854559485480002,0.1164253813840197,0.6451866930936474],\"type\":\"scatter\",\"hoverinfo\":\"text\"},{\"xaxis\":\"x1\",\"colorbar\":{\"title\":\"\"},\"yaxis\":\"y1\",\"text\":[null,null,null,null,null,null,null,null,null,null,null,null,null,null,null,null,null,null,null,null],\"x\":[1,2,3,4,5,6,7,8,9,10,11,12,13,14,15,16,17,18,19,20],\"showlegend\":true,\"mode\":\"lines\",\"name\":\"y10\",\"zmin\":-0.1,\"legendgroup\":\"y10\",\"zmax\":0.1,\"line\":{\"color\":\"rgba(142, 151, 30, 1.000)\",\"shape\":\"linear\",\"dash\":\"solid\",\"width\":1},\"y\":[0.8814055396676084,0.3207372678335103,0.3386961416196803,0.8897448742689096,0.8762773064679754,0.9322979187309608,0.672046497798398,0.8430114162518401,0.09358653162787522,0.835176951415485,0.6529934865817419,0.9189238992758251,0.9761827042994042,0.8761650393194065,0.4394368455162858,0.8243082320076767,0.08898216285018656,0.6362350981510714,0.2687190072145378,0.6122017236519139],\"type\":\"scatter\",\"hoverinfo\":\"text\"}], {\"showlegend\":true,\"xaxis\":{\"showticklabels\":true,\"gridwidth\":0.5,\"tickvals\":[5.0,10.0,15.0,20.0],\"visible\":true,\"ticks\":\"inside\",\"range\":[0.43000000000000005,20.57],\"domain\":[0.0658209390492855,0.9934383202099738],\"tickmode\":\"array\",\"linecolor\":\"rgba(0, 0, 0, 1.000)\",\"showgrid\":true,\"title\":\"\",\"mirror\":false,\"tickangle\":0,\"showline\":true,\"gridcolor\":\"rgba(0, 0, 0, 0.100)\",\"titlefont\":{\"color\":\"rgba(0, 0, 0, 1.000)\",\"family\":\"sans-serif\",\"size\":15},\"tickcolor\":\"rgb(0, 0, 0)\",\"ticktext\":[\"5\",\"10\",\"15\",\"20\"],\"zeroline\":false,\"type\":\"-\",\"tickfont\":{\"color\":\"rgba(0, 0, 0, 1.000)\",\"family\":\"sans-serif\",\"size\":11},\"zerolinecolor\":\"rgba(0, 0, 0, 1.000)\",\"anchor\":\"y1\"},\"paper_bgcolor\":\"rgba(255, 255, 255, 1.000)\",\"annotations\":[],\"height\":400,\"margin\":{\"l\":0,\"b\":20,\"r\":0,\"t\":20},\"plot_bgcolor\":\"rgba(255, 255, 255, 1.000)\",\"yaxis\":{\"showticklabels\":true,\"gridwidth\":0.5,\"tickvals\":[0.0,0.25,0.5,0.75,1.0],\"visible\":true,\"ticks\":\"inside\",\"range\":[-0.017592953778676288,1.0249067940652201],\"domain\":[0.03762029746281716,0.9901574803149606],\"tickmode\":\"array\",\"linecolor\":\"rgba(0, 0, 0, 1.000)\",\"showgrid\":true,\"title\":\"\",\"mirror\":false,\"tickangle\":0,\"showline\":true,\"gridcolor\":\"rgba(0, 0, 0, 0.100)\",\"titlefont\":{\"color\":\"rgba(0, 0, 0, 1.000)\",\"family\":\"sans-serif\",\"size\":15},\"tickcolor\":\"rgb(0, 0, 0)\",\"ticktext\":[\"0.00\",\"0.25\",\"0.50\",\"0.75\",\"1.00\"],\"zeroline\":false,\"type\":\"-\",\"tickfont\":{\"color\":\"rgba(0, 0, 0, 1.000)\",\"family\":\"sans-serif\",\"size\":11},\"zerolinecolor\":\"rgba(0, 0, 0, 1.000)\",\"anchor\":\"x1\"},\"legend\":{\"tracegroupgap\":0,\"bordercolor\":\"rgba(0, 0, 0, 1.000)\",\"bgcolor\":\"rgba(255, 255, 255, 1.000)\",\"font\":{\"color\":\"rgba(0, 0, 0, 1.000)\",\"family\":\"sans-serif\",\"size\":11},\"y\":1.0,\"x\":1.0},\"width\":600});\n",
       "    </script>\n"
      ]
     },
     "execution_count": 75,
     "metadata": {},
     "output_type": "execute_result"
    }
   ],
   "source": [
    "plotly() # api to plot.ly\n",
    "plot(rand(20, 10))"
   ]
  }
 ],
 "metadata": {
  "hide_input": false,
  "kernelspec": {
   "display_name": "Julia 1.0.0-rc1",
   "language": "julia",
   "name": "julia-1.0"
  },
  "language_info": {
   "file_extension": ".jl",
   "mimetype": "application/julia",
   "name": "julia",
   "version": "1.0.2"
  },
  "nbTranslate": {
   "displayLangs": [
    "*"
   ],
   "hotkey": "alt-t",
   "langInMainMenu": true,
   "sourceLang": "en",
   "targetLang": "fr",
   "useGoogleTranslate": true
  },
  "toc": {
   "base_numbering": 1,
   "nav_menu": {},
   "number_sections": true,
   "sideBar": true,
   "skip_h1_title": false,
   "title_cell": "Table of Contents",
   "title_sidebar": "Contents",
   "toc_cell": false,
   "toc_position": {},
   "toc_section_display": true,
   "toc_window_display": false
  }
 },
 "nbformat": 4,
 "nbformat_minor": 2
}
